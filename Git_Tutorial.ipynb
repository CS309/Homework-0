{
 "cells": [
  {
   "cell_type": "markdown",
   "metadata": {},
   "source": [
    "<p class='notebook_header'><b>CS 309 - Robot Learning</b></p>\n",
    "<p class='notebook_header'>Git Tutorial / Homework</p>\n",
    "\n",
    "<hr class='separate' />"
   ]
  },
  {
   "cell_type": "markdown",
   "metadata": {},
   "source": [
    "<p class='section_header'><b>1. Purpose of Git</b></p>\n",
    "\n",
    "<p>Git is an open source distributed version control system. This means it allows you to keep versioned states of your project, and upload your work to an online storage service like GitHub. <b>GitHub</b> stores your code online for others to access (enabling collaboration between you and your classmates), while <b>Git</b> is the tool that manages uploading/downloading of code from this online service.</p>"
   ]
  },
  {
   "cell_type": "markdown",
   "metadata": {},
   "source": [
    "<p class='section_header'><b>2. Installation</b></p>\n",
    "\n",
    "<p>If you know you already have git installed, you can go ahead and skip this. (If you're usure, go to your terminal/command line and type \"git\".)</p>\n",
    "<p><b>Make sure to download the version meant for YOUR operating system:</b> If you don't have Git, go to <a href=\"https://git-scm.com/downloads\" target=\"_blank\">this link</a> to download it. Follow the instructions indicated by the downloaded program.</p>"
   ]
  },
  {
   "cell_type": "markdown",
   "metadata": {},
   "source": [
    "<p class='section_header'><b>3. Configuration</b></p>\n",
    "\n",
    "<p>Git needs to know some basic identifying info about you. Preferably use the username/email associated with your GitHub (skip to the next section, part 1, if you do not have a GitHub account yet). Run these following commands in your <b>terminal</b> (for Windows users, this will be called the \"Command Prompt\"). When you see text that <code id=\"code\">looks like this</code>, or with a dollar sign in front of it, this will usually indicate you are to type and run the following text in your terminal.</p>\n",
    "\n",
    "<ul>\n",
    "    <li>Git attaches a <b>username</b> to your uploaded code. Set that username with this command: <code id=\"code\"> git config --global user.name \"[name]\" </code></li>\n",
    "    <li>Git attaches a <b>email</b> to your uploaded code. Set that email with this command: <code id=\"code\">git config --global user.email \"[email address]\" </code></li>\n",
    "    <li><b>Optional.</b> Set Git's UI coloring to auto: <code id=\"code\"> git config --global color.ui auto </code></li>\n",
    "</ul>"
   ]
  },
  {
   "cell_type": "markdown",
   "metadata": {},
   "source": [
    "<p class='section_header'><b>4. Setup GitHub Project</b></p>\n",
    "\n",
    "<p>Great, you should now having a working Git setup! How do we actually use this tool? First we need a <b>GitHub</b> project to interact with. Follow these steps to set one up.</p>\n",
    "\n",
    "<ol>\n",
    "    <li>Setup a GitHub account (I'd recommend using your @utexas.edu email): <a href=\"https://github.com/\" target=\"_blank\">GitHub Login</a></li>\n",
    "    <ul>\n",
    "        <li>If you use your @utexas.edu email, you qualify for the GitHub Student Pack: <a href=\"https://education.github.com/pack\" target=\"_blank\">GitHub Student Pack</a></li>\n",
    "        <li>Make sure to select the <b>Free</b> tier:</li>\n",
    "        <img src=\"./Resources/GitResources/GitHubSignup1.PNG\" alt=\"Signup Tier Select\" width=\"450\"/>\n",
    "    </ul>\n",
    "    <li>Create a new repository.</li>\n",
    "    <ul>\n",
    "        <li>Select the plus symbol at the top right, and click <b>New repository</b>:</li>\n",
    "        <img src=\"./Resources/GitResources/GitHubNewProject.PNG\" alt=\"New reposity selection.\" width=\"300\"/>\n",
    "        <br>\n",
    "        <br>\n",
    "        <li>Fill out the details in this pane (Repo name = <b>GitTutorial</b>, select <b>Private</b> option, and initialize with a <b>README</b>.):</li>\n",
    "        <img src=\"./Resources/GitResources/GitHubNewRepo2.PNG\" alt=\"New reposity details selection.\" width=\"600\"/>\n",
    "        <br>\n",
    "        <br>\n",
    "        <li>This should be the resulting page:</li>\n",
    "        <img src=\"./Resources/GitResources/GitHubNewRepo3.PNG\" alt=\"New reposity resulting page.\" width=\"600\"/>\n",
    "    </ul>\n",
    "</ol>"
   ]
  },
  {
   "cell_type": "markdown",
   "metadata": {},
   "source": [
    "<p class='section_header'><b>5. Clone the Repo Locally</b></p>\n",
    "\n",
    "<p>With a GitHub repository ready, we are now ready to <i>clone</i> the repository to our local machine with <b>Git</b>. This is the first use case of Git. Cloning is essentially copying the repo from GitHub to our local machine, where we can make changes to our code.</p>\n",
    "\n",
    "<br>\n",
    "<ol>\n",
    "    <li>On the project page, select the bright green <b>Clone or download</b> button. <b>Copy</b> the url in the text bar.</li>\n",
    "    <img src=\"./Resources/GitResources/GitHubCloneRepo.PNG\" alt=\"Github Clone Repo\" width=\"450\">\n",
    "    <br>\n",
    "    <br>\n",
    "    <li>Go to the terminal on your computer. Type <i>git clone \"[url you've copied]\"</i>. You'll need to enter your <b>GitHub</b> username and password to download the repo.\n",
    "    <img src=\"./Resources/GitResources/GitCloneRepo.PNG\" alt=\"Git Clone Repo\" width=\"700\"><br>\n",
    "    You'll now notice a folder named \"GitTutorial\" in the directory where you were in your terminal instance when you called <i>git clone</i>:\n",
    "    <img src=\"./Resources/GitResources/GitFolderLS.PNG\" alt=\"See the newly downloaded folder.\" width=\"600\">\n",
    "    </li>\n",
    "</ol>"
   ]
  },
  {
   "cell_type": "markdown",
   "metadata": {},
   "source": [
    "<p class='section_header'><b>6. Basic Git Commands</b></p>\n",
    "\n",
    "<p>Now for the primary utility of Git. </p>\n",
    "\n",
    "<table style=\"width:55%\">\n",
    "    <tr>\n",
    "        <td style=\"text-align:center; font-weight:bold;\">Command</td>\n",
    "        <td style=\"text-align:center; font-weight:bold;\">Purpose</td>\n",
    "    </tr>\n",
    "    <tr>\n",
    "        <td style=\"text-align:center;\"><i>git status</i></td> \n",
    "        <td style=\"text-align:center;\">List the changes you've made to code which haven't been uploaded yet.</td>\n",
    "    </tr>\n",
    "    <tr>\n",
    "        <td style=\"text-align:center;\"><i>git add [file]</i></td> \n",
    "        <td style=\"text-align:center;\">Indicate you'd like to include a file in an upcoming <i>commit</i>.</td>\n",
    "    </tr>\n",
    "    <tr>\n",
    "        <td style=\"text-align:center;\"><i>git commit -m \"[description of change]\"</i></td> \n",
    "        <td style=\"text-align:center;\">Commits your code, with a descriptive message on the changes made.</td>\n",
    "    </tr>\n",
    "    <tr>\n",
    "        <td style=\"text-align:center;\"><i>git pull</i></td> \n",
    "        <td style=\"text-align:center;\">Downloads code changes made on your remote repo (from GitHub).</td>\n",
    "    </tr>\n",
    "    <tr>\n",
    "        <td style=\"text-align:center;\"><i>git push</i></td> \n",
    "        <td style=\"text-align:center;\">Uploads the code changes you've made locally to the remote repo (to GitHub).</td>\n",
    "    </tr>\n",
    "</table>\n",
    "\n",
    "<br>\n",
    "<ol>\n",
    "    <li>Change directories into the GitTutorial one. Use the git status command. Notice there should be \"nothing to commit\".</li>\n",
    "    <img src=\"./Resources/GitResources/GitStatusCheck.PNG\" alt=\"Git Status Check\" width=\"550\">\n",
    "    <br>\n",
    "    <br>\n",
    "    <li>Modify the README.md file with the following text:</li>\n",
    "    <img src=\"./Resources/GitResources/GitFileEdit.PNG\" alt=\"Git File Edit\" width=\"550\">\n",
    "    <br>\n",
    "    <br>\n",
    "    <li>Use the git status command again. Notice the output is different.</li>\n",
    "    <img src=\"./Resources/GitResources/GitStatusCheck2.PNG\" alt=\"Git Status Check 2\" width=\"550\">\n",
    "    <br>\n",
    "    <br>\n",
    "    <li>Git recognizes we've modified README.md, but not that we want to include this file in our <i>commit</i>. Let's indicate this with the <i>add</i> command.</li>\n",
    "    <img src=\"./Resources/GitResources/GitAdd.PNG\" alt=\"Git Add\" width=\"550\">\n",
    "    <br>\n",
    "    <br>\n",
    "    <li>Use git status once again, notice the change in output. This indicates we're ready to make a <i>commit</i>.</li>\n",
    "    <img src=\"./Resources/GitResources/GitStatusCheck3.PNG\" alt=\"Git Status Check 3\" width=\"550\">\n",
    "    <br>\n",
    "    <br>\n",
    "    <li>Now use the git commit command to record our README changes to our versioning history.</li>\n",
    "    <img src=\"./Resources/GitResources/GitCommit.PNG\" alt=\"Git Commit\" width=\"550\">\n",
    "    <br>\n",
    "    <br>\n",
    "    <li>Now use the git push command to upload our README changes to GitHub.</li>\n",
    "    <img src=\"./Resources/GitResources/GitPush.PNG\" alt=\"Git Push\" width=\"550\">\n",
    "    <br>\n",
    "    <br>\n",
    "    <li>Go to GitHub, to your GitTutorial project (https://github.com/[Your Username]/GitTutorial). You should notice your README has been updated with the changes you made locally.</li>\n",
    "    <img src=\"./Resources/GitResources/GitHubCheck.PNG\" alt=\"GitHub Check\" width=\"550\">\n",
    "    <br>\n",
    "    <br>\n",
    "    <li>Lastly, let's look at <i>pulling</i>. On the same page above, check the pencil icon see at the top right of the above image. GitHub lets you modify code via your web-browser. Modify the README to reflect the image below. Commit the changes with the green button at the botton of the page.\n",
    "    <img src=\"./Resources/GitResources/GitHubEdit.PNG\" alt=\"GitHub Direct Edit\" width=\"550\"><br>\n",
    "    Next go to your terminal and use git pull to <i>pull</i> down these changes from online to local storage.\n",
    "    <img src=\"./Resources/GitResources/GitPull.PNG\" alt=\"Git Pull\" width=\"550\"><br>\n",
    "    You'll notice if you open you local README, it's modified to relect the changes you made from GitHub.</li>\n",
    "</ol>"
   ]
  },
  {
   "cell_type": "markdown",
   "metadata": {},
   "source": [
    "<p class='section_header'><b>7. Merge Conflicts</b></p>\n",
    "\n",
    "<p>A hard part about working collaboratively through Git/GitHub is when you and someone else made code changes in the same place, then try to push/pull. The first person to push won't have any issues, but the second person who pulls (before pushing) will have a <b>merge conflict</b>. Explore this below.</p>\n",
    "\n",
    "\n",
    "<ol>\n",
    "    <li>Go to GitHub and modify your README to look like this (review process above if needed):</li>\n",
    "    <img src=\"./Resources/GitResources/GitHubEdit2.PNG\" alt=\"GitHub Edit 2\" width=\"450\">\n",
    "    <br>\n",
    "    <br>\n",
    "    <li>Modify your README <b>locally</b> to look like this:</li>\n",
    "    <img src=\"./Resources/GitResources/GitFileEdit2.PNG\" alt=\"Git File Edit 2\" width=\"550\">\n",
    "    <br>\n",
    "    <br>\n",
    "    <li>Git <b>status</b>, <b>add</b>, and <b>commit</b> your local changes:</li>\n",
    "    <img src=\"./Resources/GitResources/GitStatusAddCommit.PNG\" alt=\"Git Status, Add, Commit\" width=\"550\">\n",
    "    <br>\n",
    "    <br>\n",
    "    <li>If you're working collaboratively (or on different computers), always <b>commit you local changes, then pull before pushing your local changes</b>. This way you grab any changes that have been made to the repo. Git <b>pull</b>, a merge conflict should arise:</li>\n",
    "    <img src=\"./Resources/GitResources/GitPullWithConflict.PNG\" alt=\"Git Pull w/ Merge Conflict\" width=\"550\">\n",
    "    <br>\n",
    "    <br>\n",
    "    <li>Open your README locally. You'll notice your file looks something like this:<br>\n",
    "    <img src=\"./Resources/GitResources/GitFileEditMergeConflict.PNG\" alt=\"File Edit the Merge Conflict\" width=\"550\"><br>\n",
    "    You'll need to modify the file to sort out how the two changes should interact with each other. You become the authority on what the final state of the file should be. To signal the final state, just make sure to delete the white text in the above screenshot.\n",
    "    <img src=\"./Resources/GitResources/GitFileEditExampleResolution.PNG\" alt=\"Merge Conflict Example Resolution\" width=\"550\"></li>\n",
    "    <br>\n",
    "    <br>\n",
    "    <li>Git <b>status</b>, <b>add</b>, and <b>commit</b> this fixed README:</li>\n",
    "    <img src=\"./Resources/GitResources/GitStatusAddCommitOnConflict.PNG\" alt=\"Git Status, Add, Commit on Conflict\" width=\"550\">\n",
    "    <br>\n",
    "    <br>\n",
    "    <li>Git <b>push</b>, then visit your repo on GitHub. Your merge conflict resolution should be reflected.</li>\n",
    "    <img src=\"./Resources/GitResources/GitHubCheck2.PNG\" alt=\"GitHub Check Resolution\" width=\"450\">\n",
    "</ol>"
   ]
  },
  {
   "cell_type": "markdown",
   "metadata": {},
   "source": [
    "<p class='section_header'><b>8. Expectations for Homework Check</b></p>\n",
    "\n",
    "<p>For the homework check, you'll sit down with a mentor to make sure you were able to get through the instructions above. They'll also make sure you can use what you've learned. Be ready to demonstrate changing a file locally and uploading it to GitHub. Anything else above this cell is fair game as well (cloning a new repo, checking instructions were followed properly, merge conflict resolution, etc.).</p>"
   ]
  },
  {
   "cell_type": "markdown",
   "metadata": {},
   "source": [
    "<p class='section_header'><b>9. Further Reading on Git</b></p>\n",
    "\n",
    "<p>There's a lot more to Git than discussed here. Versioning is a tricky subject you should explore on your own. Look to these resources if you ever need a refresher, or would like to explore more functionality of Git.</p>\n",
    "\n",
    "__[GitHub Git Tutorial (Covering Branching)](https://guides.github.com/activities/hello-world/)__\n",
    "\n",
    "__[Handy Git Cheat Sheet](https://github.github.com/training-kit/downloads/github-git-cheat-sheet.pdf)__\n",
    "\n",
    "__[Caching GitHub Credentials](https://help.github.com/en/github/getting-started-with-github/set-up-git#next-steps-authenticating-with-github-from-git)__\n",
    "\n",
    "__[Git GUI](https://git-scm.com/download/gui/windows)__"
   ]
  },
  {
   "cell_type": "code",
   "execution_count": null,
   "metadata": {
    "collapsed": true
   },
   "outputs": [],
   "source": []
  },
  {
   "cell_type": "code",
   "execution_count": 2,
   "metadata": {},
   "outputs": [
    {
     "data": {
      "text/html": [
       "<style> \n",
       "    p {\n",
       "        font-size:15px;\n",
       "    }\n",
       "\n",
       "    p.notebook_header {\n",
       "        text-align:center;\n",
       "        font-size:30px;\n",
       "        margin-bottom: 30px;\n",
       "    }\n",
       "\n",
       "    p.section_header {\n",
       "        text-align:left;\n",
       "        font-size:25px;\n",
       "        margin-top: 20px;\n",
       "        margin-bottom: 35px;\n",
       "    }\n",
       "\n",
       "    hr.separate {\n",
       "        height:3px;\n",
       "        border:none;\n",
       "    }\n",
       "\n",
       "    hr.light_separate {\n",
       "        height:1px;\n",
       "        border:none;\n",
       "    }\n",
       "\n",
       "    li {\n",
       "        font-size:15px;\n",
       "    }\n",
       "\n",
       "    td {\n",
       "        font-size:15px;\n",
       "    }\n",
       "\n",
       "    div.code-div {\n",
       "        text-align: center; \n",
       "        margin-top: 10px;\n",
       "        margin-bottom: 10px;       \n",
       "    }\n",
       "\n",
       "    #code {\n",
       "        background: #f4f4f4;\n",
       "        border: 1px solid #ddd;\n",
       "        font-family: monospace;\n",
       "        font-size: 15px;\n",
       "    }\n",
       "</style> "
      ],
      "text/plain": [
       "<IPython.core.display.HTML object>"
      ]
     },
     "execution_count": 2,
     "metadata": {},
     "output_type": "execute_result"
    }
   ],
   "source": [
    "# Custom CSS styling.\n",
    "from IPython.core.display import HTML\n",
    "\n",
    "HTML(open(\"./styles/custom.css\", \"r\").read())"
   ]
  }
 ],
 "metadata": {
  "kernelspec": {
   "display_name": "Python 3",
   "language": "python",
   "name": "python3"
  },
  "language_info": {
   "codemirror_mode": {
    "name": "ipython",
    "version": 3
   },
   "file_extension": ".py",
   "mimetype": "text/x-python",
   "name": "python",
   "nbconvert_exporter": "python",
   "pygments_lexer": "ipython3",
   "version": "3.6.1"
  }
 },
 "nbformat": 4,
 "nbformat_minor": 2
}
