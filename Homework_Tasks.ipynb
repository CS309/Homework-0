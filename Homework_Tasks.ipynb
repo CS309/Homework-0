{
 "cells": [
  {
   "cell_type": "markdown",
   "metadata": {},
   "source": [
    "<p class='notebook_header'><b>CS 309 - Robot Learning</b></p>\n",
    "<p class='notebook_header'>Homework Tasks</p>\n",
    "\n",
    "<hr class='separate' />"
   ]
  },
  {
   "cell_type": "markdown",
   "metadata": {},
   "source": [
    "<p>This notebook serves to simply list out everything you need to do for this Homework 0. It's a lot, spread over quite a few notebooks. Future homeworks should be more consolidated. Take a breath, review you've done the tasks in this list, and you're good to go.</p>\n",
    "\n",
    "<p><i>(The check boxes below are just for you to use. Checks won't be saved when the page is reloaded, or if you modify the cell.)</i></p>"
   ]
  },
  {
   "cell_type": "markdown",
   "metadata": {},
   "source": [
    "<p><b>Git_Tutorial:</b></p>\n",
    "<ol>\n",
    "    <input type=\"checkbox\"> Install Git.<br>\n",
    "    <input type=\"checkbox\"> Create GitHub account.<br>\n",
    "    <input type=\"checkbox\"> Create GitTutorial repo.<br>\n",
    "    <input type=\"checkbox\"> Modified GitTutorial repo both locally and via GitHub.<br>\n",
    "    <input type=\"checkbox\"> Be able to modify a repo locally, commit your changes, and push these changes to GitHub when asked by a mentor.<br>\n",
    "</ol>"
   ]
  },
  {
   "cell_type": "markdown",
   "metadata": {},
   "source": [
    "<p><b>Github_Classroom_Tutorial:</b></p>\n",
    "<ol>\n",
    "    <input type=\"checkbox\"> Join the classroom.<br>\n",
    "    <input type=\"checkbox\"> Accept Homework 0.<br>\n",
    "    <input type=\"checkbox\"> Clone Homework 0 locally.<br>\n",
    "    <input type=\"checkbox\"> Fill in the \"[Your Name Here]\" section, and upload these changes to GitHub.<br>\n",
    "    <input type=\"checkbox\"> Successfully run Get_Assignment_Updates.py.<br>\n",
    "</ol>"
   ]
  },
  {
   "cell_type": "markdown",
   "metadata": {},
   "source": [
    "<p><b>Conda_Tutorial:</b></p>\n",
    "<ol>\n",
    "    <input type=\"checkbox\"> Install Python 3.<br>\n",
    "    <input type=\"checkbox\"> Install Conda.<br>\n",
    "    <input type=\"checkbox\"> Create the fri_rl environment.<br>\n",
    "    <input type=\"checkbox\"> Successfully activate the fri_rl environment.<br>\n",
    "    <input type=\"checkbox\"> Install jupyter notebook, nbextensions, and rise within fri_rl.<br>\n",
    "    <input type=\"checkbox\"> Generate a random number with Python.<br>\n",
    "    <input type=\"checkbox\"> Fill in the \"[Your name here]\" section.<br>\n",
    "    <input type=\"checkbox\"> Be able to save your notebook, insert a new cell, run all cells (with one button), duplicate a cell, and point out the Python Reference link.<br>\n",
    "    <input type=\"checkbox\"> Upload changes to GitHub.<br>\n",
    "</ol>"
   ]
  },
  {
   "cell_type": "markdown",
   "metadata": {},
   "source": [
    "<p><b>Python_Tutorial:</b></p>\n",
    "<ol>\n",
    "    <input type=\"checkbox\"> Run all cells in the notebook.<br>\n",
    "</ol>\n",
    "\n",
    "<p>You won't be tested on your Python knowledge. Make sure to come back and reference this file as you get assignments that require Python coding.</p>"
   ]
  },
  {
   "cell_type": "code",
   "execution_count": null,
   "metadata": {
    "collapsed": true
   },
   "outputs": [],
   "source": []
  },
  {
   "cell_type": "code",
   "execution_count": 3,
   "metadata": {},
   "outputs": [
    {
     "data": {
      "text/html": [
       "<style> \n",
       "    p {\n",
       "        font-size:15px;\n",
       "    }\n",
       "\n",
       "    p.notebook_header {\n",
       "        text-align:center;\n",
       "        font-size:30px;\n",
       "        margin-bottom: 30px;\n",
       "    }\n",
       "\n",
       "    p.section_header {\n",
       "        text-align:left;\n",
       "        font-size:25px;\n",
       "        margin-top: 20px;\n",
       "        margin-bottom: 35px;\n",
       "    }\n",
       "\n",
       "    hr.separate {\n",
       "        height:3px;\n",
       "        border:none;\n",
       "    }\n",
       "\n",
       "    hr.light_separate {\n",
       "        height:1px;\n",
       "        border:none;\n",
       "    }\n",
       "\n",
       "    li {\n",
       "        font-size:15px;\n",
       "    }\n",
       "\n",
       "    td {\n",
       "        font-size:15px;\n",
       "    }\n",
       "\n",
       "    div.code-div {\n",
       "        text-align: center; \n",
       "        margin-top: 10px;\n",
       "        margin-bottom: 10px;       \n",
       "    }\n",
       "\n",
       "    #code {\n",
       "        background: #f4f4f4;\n",
       "        border: 1px solid #ddd;\n",
       "        font-family: monospace;\n",
       "        font-size: 15px;\n",
       "    }\n",
       "</style> "
      ],
      "text/plain": [
       "<IPython.core.display.HTML object>"
      ]
     },
     "execution_count": 3,
     "metadata": {},
     "output_type": "execute_result"
    }
   ],
   "source": [
    "# Custom CSS styling.\n",
    "from IPython.core.display import HTML\n",
    "\n",
    "HTML(open(\"./styles/custom.css\", \"r\").read())"
   ]
  }
 ],
 "metadata": {
  "kernelspec": {
   "display_name": "Python 3",
   "language": "python",
   "name": "python3"
  },
  "language_info": {
   "codemirror_mode": {
    "name": "ipython",
    "version": 3
   },
   "file_extension": ".py",
   "mimetype": "text/x-python",
   "name": "python",
   "nbconvert_exporter": "python",
   "pygments_lexer": "ipython3",
   "version": "3.6.1"
  }
 },
 "nbformat": 4,
 "nbformat_minor": 2
}
