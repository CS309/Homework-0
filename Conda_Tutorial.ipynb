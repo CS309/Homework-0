{
 "cells": [
  {
   "cell_type": "markdown",
   "metadata": {},
   "source": [
    "<p class='notebook_header'><b>CS 309 - Robot Learning</b></p>\n",
    "<p class='notebook_header'>Conda, Notebook Tutorial</p>\n",
    "\n",
    "<hr class='separate' />"
   ]
  },
  {
   "cell_type": "markdown",
   "metadata": {},
   "source": [
    "<p style=\"color:red\"><b>IMPORTANT: Make sure you've gone through Github_Classroom_Tutorial first before continuing here (should be in same folder).</b></p>"
   ]
  },
  {
   "cell_type": "markdown",
   "metadata": {},
   "source": [
    "<p class='section_header'><b>Conda</b></p>\n",
    "\n",
    "<p>Conda is an open source package and environment management system.</p>\n",
    "<ul>\n",
    "    <li>Allows you to create new environments for new projects</li>\n",
    "    <ul>\n",
    "        <li>Keeps project separate</li>\n",
    "        <li>Doesn't pollute one workspace with modules from another one</li>\n",
    "        <li>Use particular version of modules without affecting dependencies of other projects</li>\n",
    "        <br>\n",
    "    </ul>\n",
    "    <li>Works for languages and libraries other than python</li>\n",
    "</ul>\n",
    "\n",
    "<p>Comes in two flavors:</p>\n",
    "<ul>\n",
    "    <li><b>Anaconda</b></li>\n",
    "    <ul>\n",
    "        <li>Large</li>\n",
    "        <li>Contains a lot of useful packages</li>\n",
    "        <li>Contains even more (for us) useless packages</li>\n",
    "        <br>\n",
    "    </ul>\n",
    "    <li><b>Miniconda</b></li>\n",
    "    <ul>\n",
    "        <li>Minimal Installation</li>\n",
    "        <li>Will be used in this lecture</li>\n",
    "        <li>Can install what we need afterwards</li>\n",
    "        <li>Conda will take care of any dependencies</li>\n",
    "    </ul>\n",
    "</ul>"
   ]
  },
  {
   "cell_type": "markdown",
   "metadata": {},
   "source": [
    "<p class='section_header'><b>Conda - Install</b></p>\n",
    "\n",
    "\n",
    "<p>If you do not have Python, download <b>Python 3</b> binary for your OS:\n",
    "<a href=\"https://conda.io/en/latest/miniconda.html\" target=\"_blank\">Download Link</a>. (You can check this by typing \"python\" or \"python3\" in your terminal. If you have Python 2 installed, this will most likely be triggered by \"python\". If you also have Python 3 installed, \"python3\" will activate it.) </p>\n",
    "\n",
    "<p>Now install Conda:</p>\n",
    "<ul>\n",
    "    <li><b>Linux</b> Example Install: </li>\n",
    "    <ul>\n",
    "        <li><code id=\"code\">wget https://repo.anaconda.com/miniconda/Miniconda3-latest-Linux-x86_64.sh</code></li>\n",
    "        <li><code id=\"code\">bash Miniconda3-latest-Linux-x86_64.sh</code></li>\n",
    "        <li>Accept defaults (i.e. just press enter).</li>\n",
    "        <li>Restart terminal.</li>\n",
    "        <br>\n",
    "    </ul>\n",
    "    <li><b>Mac</b> Example Install: </li>\n",
    "    <ul>\n",
    "        <li><code id=\"code\">curl -O https://repo.anaconda.com/miniconda/Miniconda3-latest-MacOSX-x86_64.sh</code></li>\n",
    "        <li><code id=\"code\">bash Miniconda3-latest-MacOSX-x86_64.sh</code></li>\n",
    "        <li>Accept defaults (i.e. just press enter).</li>\n",
    "        <li>Restart terminal.</li>\n",
    "        <br>\n",
    "    </ul>\n",
    "    <li><b>Windows</b> Example Install: </li>\n",
    "    <ul>\n",
    "        <li>Download the .exe from the <a href=\"https://conda.io/en/latest/miniconda.html\" target=\"_blank\">download link</a></li>\n",
    "        <li>Double click .exe</li>\n",
    "        <li>Accept defaults (i.e. just press enter).</li>\n",
    "        <li>Restart Command Prompt.</li>\n",
    "    </ul>\n",
    "</ul>\n",
    "\n",
    "<p>Note that the links above are 64-bit versions. If you are still running a 32-bit system you will have to download the corresponding install script from the <a href=\"https://conda.io/en/latest/miniconda.html\" target=\"_blank\">download link</a>.</p>"
   ]
  },
  {
   "cell_type": "markdown",
   "metadata": {},
   "source": [
    "<p class='section_header'><b>Conda - Test Install</b></p>\n",
    "\n",
    "<p>Run <code  id=\"code\">conda update conda</code> in your terminal. This should update all the packages conda runs with. If this command does not work, please first Google it, then ask a mentor for help.</p>"
   ]
  },
  {
   "cell_type": "markdown",
   "metadata": {},
   "source": [
    "<p class='section_header'><b>Conda - Environments and Packages</b></p>\n",
    "\n",
    "<ol>\n",
    "    <li>Create an <i>environment</i> with conda:</li>\n",
    "    <ul>\n",
    "        <li><code id=\"code\">conda create -n fri_rl python=3.7</code></li>\n",
    "        <li>With this we created the environment <i>fri_rl</i> and installed python 3 within it.</li>\n",
    "        <li>Whenever an environment is active, if you request to run a program or script and that program exists within the environment it will have precedence over any other program with the same name outside of the environment.</li>\n",
    "    </ul>\n",
    "    <br>\n",
    "    <li>Activate the <i>fri_rl</i> environment with conda:</li>\n",
    "    <ul>\n",
    "        <li><code id=\"code\">conda activate fri_rl</code></li>\n",
    "        <li>You should now see the active environment in parentheses before the command line input i.e, (fri_rl)</li>\n",
    "    </ul>\n",
    "    <br>\n",
    "    <li>Let's install some packages within the <i>fri_rl</i> environment. Be sure that <i>fri_rl</i> is active, otherwise you will install this in your <i>base</i> conda environment instead (don't want).</li>\n",
    "    <ul>\n",
    "        <li>Jupyter Notebook: <code id=\"code\">conda install notebook</code> (allows you to view .ipynb like this one locally).</li>\n",
    "        <li>Jupyter nbextensions: <code id=\"code\">conda install -c conda-forge jupyter_contrib_nbextensions</code></li>\n",
    "        <li>RISE: <code id=\"code\">conda install -c conda-forge rise\n",
    "</code> (allows for slides within jupyter notebooks).</li>\n",
    "    </ul>\n",
    "</ol>"
   ]
  },
  {
   "cell_type": "markdown",
   "metadata": {},
   "source": [
    "<hr class='separate' />"
   ]
  },
  {
   "cell_type": "markdown",
   "metadata": {},
   "source": [
    "<p class='section_header'><b>Jupyter Notebook</b></p>\n",
    "\n",
    "<p>Jupyter Notebooks are a flexible way to write intermingled code and notes. It's essentially another IDE (like Eclipse, VSCode, etc.), but allows you to write notes intermingled with code.  <i>Notebooks</i> (.ipynb) are made up of <i>cells</i>. The two most common cell types are <i>Markdown</i> (for notes) and <i>Code</i> (for... code). Follow the steps below to get started with writing your own notebooks.</p>"
   ]
  },
  {
   "cell_type": "markdown",
   "metadata": {},
   "source": [
    "<p class='section_header'><b>Jupyter Notebook - Install</b></p>\n",
    "\n",
    "\n",
    "<p>You've already installed it with <i>conda install notebook</i>! You'll only be able to use the following commands if you're within your <i>fri_rl</i> environment though. Using the <i>jupyter-notebook</i> command will not work in your base conda environment (unless you've installed jupyter notebook within it).</p>"
   ]
  },
  {
   "cell_type": "markdown",
   "metadata": {},
   "source": [
    "<p class='section_header'><b>Jupyter Notebook - Usage</b></p>\n",
    "\n",
    "\n",
    "<ol>\n",
    "    <li>Change directory into the Homework-0 repo you downloaded previously. Type <code id=\"code\">jupyter-notebook</code> in your terminal.</li>\n",
    "    <ul>\n",
    "        <li>This should open a file browser in your internet window as seen below:</li>\n",
    "        <img src=\"./Resources/CondaResources/JupyterNotebookLandingPage.PNG\" alt=\"Landing page for jupyter notebook within internet window.\" width=\"600\"/>\n",
    "    </ul>\n",
    "    <br>\n",
    "    <li>Find this Conda_Tutorial file within the jupyter notebook file explorer and open it. Continue with the file through there instead of via GitHub.</li> \n",
    "    <br>\n",
    "    <li>Notebooks can be styled to make them look better (when using HTML/CSS). Notice the title of the notebook at the very top. Is it centered? If not, run the cell at the bottom of the notebook to make everything look a little better:</li> \n",
    "    <img src=\"./Resources/CondaResources/NotebookStyled.PNG\" alt=\"How the header should look when styled.\" width=\"650\"/>\n",
    "    <br>\n",
    "    <li>Notice the cell below that contains Python code. It will print out a random number between 0-100. Click on it and click <i>Ctrl+Enter</i>.</li>    \n",
    "</ol>"
   ]
  },
  {
   "cell_type": "code",
   "execution_count": 1,
   "metadata": {},
   "outputs": [
    {
     "name": "stdout",
     "output_type": "stream",
     "text": [
      "77\n"
     ]
    }
   ],
   "source": [
    "import random\n",
    "\n",
    "print(random.randint(0, 100))"
   ]
  },
  {
   "cell_type": "markdown",
   "metadata": {},
   "source": [
    "<ol start=\"5\">\n",
    "    <li>You should notice the number change each time you click Ctrl+Enter. When you do this, you are <i>running</i> the cell and the code within. Same goes for any Markdown cell. Click on this cell and try it (nothing will seem to change).</li>\n",
    "    <br>\n",
    "    <li>Double click on this cell. This'll expose the html used to write these notes. Insert your name below. Run the cell to see the modification you've made.</li>\n",
    "    <ul>\n",
    "        <li>[Your name here]</li>\n",
    "    </ul>\n",
    "    <br>\n",
    "    <li>Try changing this cell to a type of Code (with the drop-down menu at top), and running it. Notice you'll get an error since HTML isn't supported in a Code cell (Python is however).</li>\n",
    "        <img src=\"./Resources/CondaResources/ChangeCellType.PNG\" alt=\"Drop down menu to change cell type.\" width=\"250\"/>\n",
    "    <br>\n",
    "    <li>Finally, play around on your own with the Notebook interface. Make sure you know how to <b>save</b> the notebook, <b>insert</b> a new cell below, <b>run all</b> cells with one button, find the <b>Python Reference</b> link, and duplicate any cell in the file.</li>\n",
    "        <img src=\"./Resources/CondaResources/JupyterNavBar.PNG\" alt=\"Jupyter navigation bar.\" width=\"500\"/>\n",
    "</ol>"
   ]
  },
  {
   "cell_type": "markdown",
   "metadata": {},
   "source": [
    "<hr class='separate' />\n",
    "\n",
    "<p class='section_header'><b>Wrapping Up</b></p>\n",
    "\n",
    "<p><b>To close jupyter notebook</b>: Press ctrl+c within the terminal you original ran <code id=\"code\">jupyter-notebook</code>.</p>\n",
    "<p><b>To deactivate your conda env</b>: Use <code id=\"code\">conda deactivate</code>.</p>\n",
    "\n",
    "<p><b>Next up</b>: The Python_Tutorial file.</p>"
   ]
  },
  {
   "cell_type": "code",
   "execution_count": null,
   "metadata": {
    "collapsed": true
   },
   "outputs": [],
   "source": []
  },
  {
   "cell_type": "code",
   "execution_count": 19,
   "metadata": {},
   "outputs": [
    {
     "data": {
      "text/html": [
       "<style> \n",
       "    p {\n",
       "        font-size:15px;\n",
       "    }\n",
       "\n",
       "    p.notebook_header {\n",
       "        text-align:center;\n",
       "        font-size:30px;\n",
       "        margin-bottom: 30px;\n",
       "    }\n",
       "\n",
       "    p.section_header {\n",
       "        text-align:left;\n",
       "        font-size:25px;\n",
       "        margin-top: 20px;\n",
       "        margin-bottom: 35px;\n",
       "    }\n",
       "\n",
       "    hr.separate {\n",
       "        height:3px;\n",
       "        border:none;\n",
       "    }\n",
       "\n",
       "    hr.light_separate {\n",
       "        height:1px;\n",
       "        border:none;\n",
       "    }\n",
       "\n",
       "    li {\n",
       "        font-size:15px;\n",
       "    }\n",
       "\n",
       "    td {\n",
       "        font-size:15px;\n",
       "    }\n",
       "\n",
       "    div.code-div {\n",
       "        text-align: center; \n",
       "        margin-top: 10px;\n",
       "        margin-bottom: 10px;       \n",
       "    }\n",
       "\n",
       "    #code {\n",
       "        background: #f4f4f4;\n",
       "        border: 1px solid #ddd;\n",
       "        font-family: monospace;\n",
       "        font-size: 15px;\n",
       "    }\n",
       "</style> "
      ],
      "text/plain": [
       "<IPython.core.display.HTML object>"
      ]
     },
     "execution_count": 19,
     "metadata": {},
     "output_type": "execute_result"
    }
   ],
   "source": [
    "# Custom CSS styling.\n",
    "from IPython.core.display import HTML\n",
    "\n",
    "HTML(open(\"./Styles/custom.css\", \"r\").read())"
   ]
  },
  {
   "cell_type": "code",
   "execution_count": null,
   "metadata": {
    "collapsed": true
   },
   "outputs": [],
   "source": []
  }
 ],
 "metadata": {
  "kernelspec": {
   "display_name": "Python 3",
   "language": "python",
   "name": "python3"
  },
  "language_info": {
   "codemirror_mode": {
    "name": "ipython",
    "version": 3
   },
   "file_extension": ".py",
   "mimetype": "text/x-python",
   "name": "python",
   "nbconvert_exporter": "python",
   "pygments_lexer": "ipython3",
   "version": "3.6.7"
  }
 },
 "nbformat": 4,
 "nbformat_minor": 2
}
