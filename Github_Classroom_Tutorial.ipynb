{
 "cells": [
  {
   "cell_type": "markdown",
   "metadata": {},
   "source": [
    "<p class='notebook_header'><b>CS 309 - Robot Learning</b></p>\n",
    "<p class='notebook_header'>Github Classroom Tutorial</p>\n",
    "\n",
    "<hr class='separate' />"
   ]
  },
  {
   "cell_type": "markdown",
   "metadata": {},
   "source": [
    "<p style=\"color:red\"><b>IMPORTANT: Make sure you've gone through Git_Tutorial first before continuing here (should be in same folder).</b></p>"
   ]
  },
  {
   "cell_type": "markdown",
   "metadata": {},
   "source": [
    "<p class='section_header'><b>1. Purpose of Github Classroom</b></p>\n",
    "\n",
    "<p>You will be using Github Classroom to access/submit assignments, notes, and whatever else is deemed appropriate over the semester. We hope this will make it easier to access, modify, and share code than via Canvas.</p>"
   ]
  },
  {
   "cell_type": "markdown",
   "metadata": {},
   "source": [
    "<p class='section_header'><b>2. Join Classroom</b></p>\n",
    "\n",
    "<p>You should have been provided with an assignment link for Homework 0 by now. Click on it, and you will be directed to a page similar to the one seen below.</p>\n",
    "\n",
    "<img src=\"./Resources/GithubClassroomResources/JoinClassroom.PNG\" alt=\"Join the Classroom\" width=\"600\"/>\n",
    "\n",
    "<p>Find your name in the roster and click it. This will allow us to link your name to your GitHub account (since you GitHub username will most likely not be something we can identify as you). If you cannot find your name, skip this step for now (add/drops may happen at the beginning of the semester) and contact a mentor (Christian is a good bet). They will add you to the roster and link your GitHub account to your name.</p>"
   ]
  },
  {
   "cell_type": "markdown",
   "metadata": {},
   "source": [
    "<p class='section_header'><b>3. Accept Assignment</b></p>\n",
    "\n",
    "<p>Next, click the \"Accept this assignment\" button. For every assignment link that's handed out, you'll need to to do this. (You'll only need to do the above join classroom step for Homework 0.)</p>\n",
    "\n",
    "<img src=\"./Resources/GithubClassroomResources/AcceptAssignment.PNG\" alt=\"Accept the Assignment\" width=\"600\"/>"
   ]
  },
  {
   "cell_type": "markdown",
   "metadata": {},
   "source": [
    "<p>GitHub will do some work to create everything you need for this assignment. The below page should appear when it's done. Click on the GitHub link it provides. </p>\n",
    "\n",
    "<p>(<b>NOTE</b>: We've seen GitHub get \"stuck\" in this process. If you see a GitHub link in the left box on the creation page, and the right progress bar seems stuck, click on the GitHub link. You can refresh that page until the repo is created.)</p>\n",
    "\n",
    "<img src=\"./Resources/GithubClassroomResources/ReadyToGo.PNG\" alt=\"Ready To Go\" width=\"600\"/>"
   ]
  },
  {
   "cell_type": "markdown",
   "metadata": {},
   "source": [
    "<p class='section_header'><b>4. Assignment Explanation</b></p>\n",
    "\n",
    "<p>Great, so you've joined the classroom, accepted the assignment, and now you've got a repo that should look something like the screenshot below. What is this repo, and what do you need to do with it?</p>\n",
    "\n",
    "<img src=\"./Resources/GithubClassroomResources/ExampleRepo.PNG\" alt=\"Example repo.\" width=\"600\"/>\n",
    "\n",
    "<p>Most assignments we give out will be made off a template repository. For Homework-0 this template should be the repo you're currently reading these notes on. When you accept an assignment, GitHub copies the template's code into a repo specifically made for you (e.g Homework-0-[your GitHub username]). </p>\n",
    "\n",
    "<p>You'll want to <b>clone</b> this personal repo, <b>read</b> through the given assignment, <b>make changes</b> as described, and <b>upload</b> it back up to GitHub. Rudi and the mentors will be able to see your code, modify it, grade it, or anything else needed. Other students will <b>not</b> be able to see your code unless it is a group assignment (and even then it should only be the members of your group). </p>\n",
    "\n",
    "<p><b>PLEASE NOTE:</b> There will usually be a deadline attached to these assignments. Once that deadline passes, GitHub <b>will</b> still allow commits to your repo. However, graders <b>will only grade your code as it appears at the deadline</b>. We will <b>not</b> change this deadline for a single individual/group. So commit your code often.</p>"
   ]
  },
  {
   "cell_type": "markdown",
   "metadata": {
    "collapsed": true
   },
   "source": [
    "<p class='section_header'><b>5. Next Steps</b></p>\n",
    "\n",
    "<p>Okay, so you've got a repo and know how to <b>clone</b> it locally. Go ahead and do this. Check back to the last assignment if you need help doing so. (I'd recommend creating a single folder to clone all the semester's assignments within.) </p>\n",
    "\n",
    "<p>If I asked you to modify this text in your locally directory: [Your Name Here], you're likely not going to know how to do that. What are <b>.ipynb</b> files, and how do you modify their contents? Try opening one with a text editor. They'll be an illegible mess.</p>\n",
    "\n",
    "<p>The answer to this is in your next tutorial file (<b>Conda_Tutorial</b>). Open this file in this repo on GitHub, and continue there <b>AFTER READING THE BELOW SECTION</b>.</p>"
   ]
  },
  {
   "cell_type": "markdown",
   "metadata": {},
   "source": [
    "<p class='section_header'><b>6. An Issue with GitHub Classroom</b></p>\n",
    "\n",
    "<p>GitHub Classroom has a slight limitation we're still looking into. When we create an assignment, and a student has accepted that assignment, we can no longer update the assignment through GH Classroom. (We can only delete the assignment along with everyone's personal repos.)</p>\n",
    "\n",
    "<p>Our current fix is a file called <b>Get_Assignment_Updates.py</b>. Before you can use that file, you'll need to go through the Conda/Python tutorial. So go do that now and <b>return here once you're done</b> to learn about this script.</p>\n",
    "\n",
    "<p>Steps to use update file:</p>\n",
    "<ol>\n",
    "    <li>Make sure your conda environment is activated.</li>\n",
    "    <li><b>Make sure all your local changes are commited and uploaded to GitHub.</b></li><br>\n",
    "    <li>Open the Get_Assignment_Updates.py file. Notice the variable \"upstream_repo\". This is the repo where you'll grab updates for the assignment. <b>Please make sure it's set, and that it's set to a logical repo</b>. So if you're on Homework-1 and the link includes the text \"Homework-0\", the link is most likely wrong. Verify with the mentors what the link should be. We'll try and have a post on Canvas (or elsewhere) that includes these links. </li><br>\n",
    "    <li>Run: <code id=\"code\">python Get_Assignment_Updates.py</code></li>\n",
    "</ol>\n",
    "\n",
    "<p>That should be all that's needed. We'll update everyone if this process to distribute updates changes.</p>"
   ]
  },
  {
   "cell_type": "code",
   "execution_count": null,
   "metadata": {
    "collapsed": true
   },
   "outputs": [],
   "source": []
  },
  {
   "cell_type": "code",
   "execution_count": 3,
   "metadata": {},
   "outputs": [
    {
     "data": {
      "text/html": [
       "<style> \n",
       "    p {\n",
       "        font-size:15px;\n",
       "    }\n",
       "\n",
       "    p.notebook_header {\n",
       "        text-align:center;\n",
       "        font-size:30px;\n",
       "        margin-bottom: 30px;\n",
       "    }\n",
       "\n",
       "    p.section_header {\n",
       "        text-align:left;\n",
       "        font-size:25px;\n",
       "        margin-top: 20px;\n",
       "        margin-bottom: 35px;\n",
       "    }\n",
       "\n",
       "    hr.separate {\n",
       "        height:3px;\n",
       "        border:none;\n",
       "    }\n",
       "\n",
       "    hr.light_separate {\n",
       "        height:1px;\n",
       "        border:none;\n",
       "    }\n",
       "\n",
       "    li {\n",
       "        font-size:15px;\n",
       "    }\n",
       "\n",
       "    td {\n",
       "        font-size:15px;\n",
       "    }\n",
       "\n",
       "    div.code-div {\n",
       "        text-align: center; \n",
       "        margin-top: 10px;\n",
       "        margin-bottom: 10px;       \n",
       "    }\n",
       "\n",
       "    #code {\n",
       "        background: #f4f4f4;\n",
       "        border: 1px solid #ddd;\n",
       "        font-family: monospace;\n",
       "        font-size: 15px;\n",
       "    }\n",
       "</style> "
      ],
      "text/plain": [
       "<IPython.core.display.HTML object>"
      ]
     },
     "execution_count": 3,
     "metadata": {},
     "output_type": "execute_result"
    }
   ],
   "source": [
    "# Custom CSS styling.\n",
    "from IPython.core.display import HTML\n",
    "\n",
    "HTML(open(\"./Styles/custom.css\", \"r\").read())"
   ]
  },
  {
   "cell_type": "code",
   "execution_count": null,
   "metadata": {
    "collapsed": true
   },
   "outputs": [],
   "source": []
  }
 ],
 "metadata": {
  "kernelspec": {
   "display_name": "Python 3",
   "language": "python",
   "name": "python3"
  },
  "language_info": {
   "codemirror_mode": {
    "name": "ipython",
    "version": 3
   },
   "file_extension": ".py",
   "mimetype": "text/x-python",
   "name": "python",
   "nbconvert_exporter": "python",
   "pygments_lexer": "ipython3",
   "version": "3.7.6"
  }
 },
 "nbformat": 4,
 "nbformat_minor": 2
}
