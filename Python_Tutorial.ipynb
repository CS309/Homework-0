{
 "cells": [
  {
   "cell_type": "markdown",
   "metadata": {},
   "source": [
    "<p class='notebook_header'><b>CS 309 - Robot Learning</b></p>\n",
    "<p class='notebook_header'>Python Tutorial</p>\n",
    "\n",
    "<hr class='separate' />"
   ]
  },
  {
   "cell_type": "markdown",
   "metadata": {},
   "source": [
    "<p style=\"color:red\"><b>IMPORTANT: Make sure you've gone through Conda_Tutorial first before continuing here (should be in same folder).</b></p>\n",
    "\n",
    "<p style=\"color:red\"><b>IMPORTANT: Make sure you're viewing this file locally on your computer, not via GitHub. Go back to the last notebook if you missed that step.</b></p>"
   ]
  },
  {
   "cell_type": "markdown",
   "metadata": {},
   "source": [
    "<p><b>Contents</b></p>\n",
    "<ol style=\"float: left;\">\n",
    "    <li><a href=\"#background\">Python Background</a></li>\n",
    "    <li><a href=\"#variables\">Variables</a></li>\n",
    "    <li><a href=\"#operators\">Operators</a></li>\n",
    "    <li><a href=\"#functions\">Functions</a></li>\n",
    "    <li><a href=\"#scope\">Scope</a></li>\n",
    "    <li><a href=\"#collections\">Collections</a></li>\n",
    "    <li><a href=\"#loops\">Loops</a></li>\n",
    "    <li><a href=\"#logic\">Logic</a></li>\n",
    "    <li><a href=\"#identity\">Identity</a></li>\n",
    "    <li><a href=\"#conditions\">Conditions</a></li>\n",
    "    <li><a href=\"#loops_revisited\">Loops (Revisited)</a></li>\n",
    "</ol>\n",
    "\n",
    "<ol start=\"12\" style=\"float: left;\">\n",
    "    <li><a href=\"#list_comp\">List Comprehension</a></li>\n",
    "    <li><a href=\"#membership\">Membership</a></li>\n",
    "    <li><a href=\"#classes\">Classes</a></li>\n",
    "    <li><a href=\"#duck_typing\">Duck Typing</a></li>\n",
    "    <li><a href=\"#casting\">Casting</a></li>\n",
    "    <li><a href=\"#exceptions\">Exceptions</a></li>\n",
    "    <li><a href=\"#modules\">Modules</a></li>\n",
    "    <li><a href=\"#numpy\">Numpy (in a nutshell)</a></li>\n",
    "    <li><a href=\"#mutables\">Mutables as default values in functions</a></li>\n",
    "    <li><a href=\"#wrap_up\">Wrap Up</a></li>\n",
    "</ol>"
   ]
  },
  {
   "cell_type": "markdown",
   "metadata": {},
   "source": [
    "<p class='section_header' id=\"background\"><b>1. Python Background</b></p>\n",
    "\n",
    "<p>Python started in December 1989 as a \"hobby project\" of Guido Van Rossum. The goal was to develop a <b>powerful, open source, easy and intuitive</b> programming language. By now Python is one of the <b>most taught and used programming language</b> world wide.</p>\n",
    "\n",
    "<p><b>Used in</b>: OS level scripts, web dev, database systems, data science, robotics, ...</p>\n",
    "\n",
    "<p><b>Python as a language:</b></p>\n",
    "<ul>\n",
    "    <li>more readable than most other programming languages</li>\n",
    "    <li>ends statements at the end of a line, instead of semicolons</li>\n",
    "    <li>defines the current scope based on indentation, instead of brackets</li>\n",
    "</ul>\n",
    "\n",
    "<p><b>Python runs on an interpreter:</b></p>\n",
    "<ul>\n",
    "    <li>platform independent (Linux, Windows, Mac, ...)</li>\n",
    "    <li>no compilation</li>\n",
    "    <li>great for rapid prototyping</li>\n",
    "</ul>\n",
    "\n",
    "<p><b>Python is very versatile:</b></p>\n",
    "<ul>\n",
    "    <li>can be used in a procedural, functional, or object-oriented way</li>\n",
    "    <li>can be used in an text editor e.g., vim, nano, gedit, atom</li>\n",
    "    <li>or in an advanced Integrated Development Environment e.g., eclipse, pycharm</li>\n",
    "    <li>and even in interactive websites and lectures e.g., jupyter-notebook</li>\n",
    "</ul>\n",
    "\n",
    "<p><b>Two major versions of Python:</b></p>\n",
    "<ul>\n",
    "    <li>Python 2 (2.7.?)</li>\n",
    "    <ul>\n",
    "        <li>Supported until 2020</li>\n",
    "    </ul>\n",
    "    <br>\n",
    "    <li>Python 3 (3.8.?)</li>\n",
    "    <ul>\n",
    "        <li>Improved performance</li>\n",
    "        <li>Slightly changed syntax</li>\n",
    "        <li>Will be used in this lecture</li>\n",
    "    </ul>\n",
    "</ul>"
   ]
  },
  {
   "cell_type": "markdown",
   "metadata": {},
   "source": [
    "<p class='section_header' id=\"variables\"><b>2. Variables</b></p>\n",
    "\n",
    "<p><b>Variable Names:</b></p>\n",
    "<ul>\n",
    "    <li>have to start with a letter</li>\n",
    "    <li>or an underscore</li>\n",
    "    <li>or certain unicode symbols (python 3!)</li>\n",
    "</ul>"
   ]
  },
  {
   "cell_type": "code",
   "execution_count": 3,
   "metadata": {},
   "outputs": [
    {
     "name": "stdout",
     "output_type": "stream",
     "text": [
      "1.884\n"
     ]
    }
   ],
   "source": [
    "aVariable = \"hello\"\n",
    "_secret_ = 222\n",
    "π = 3.14\n",
    "α = 3/5*π\n",
    "\n",
    "print(α)"
   ]
  },
  {
   "cell_type": "markdown",
   "metadata": {},
   "source": [
    "<p>Python does <b>not require type declaration</b>, i.e., you don't need to define variable types like int, float, string, etc. This does not mean Python doesn't have types! It just \"assumes\" the type of the variable given the value. You can just assign <b>any value</b> to <b>any variable</b>.</p>"
   ]
  },
  {
   "cell_type": "code",
   "execution_count": 4,
   "metadata": {},
   "outputs": [
    {
     "data": {
      "text/plain": [
       "str"
      ]
     },
     "execution_count": 4,
     "metadata": {},
     "output_type": "execute_result"
    }
   ],
   "source": [
    "# Notice we keep scope from previous cells as long as those\n",
    "# cells been run in this instance of Jupyter Notebook.\n",
    "\n",
    "type(aVariable)"
   ]
  },
  {
   "cell_type": "markdown",
   "metadata": {},
   "source": [
    "<p class='section_header' id=\"operators\"><b>3. Operators</b></p>\n",
    "\n",
    "<p><b>Common Operators:</b></p>\n",
    "<table style=\"width:60%;\">\n",
    "  <tr>\n",
    "    <td>Addition</td>\n",
    "    <td>+</td>\n",
    "  </tr>\n",
    "  <tr>\n",
    "    <td>Subtraction</td>\n",
    "    <td>-</td>\n",
    "  </tr>\n",
    "  <tr>\n",
    "    <td>Multiplication</td>\n",
    "    <td>*</td>\n",
    "  </tr>\n",
    "  <tr>\n",
    "    <td>Division</td>\n",
    "    <td>/</td>\n",
    "  </tr>\n",
    "  <tr>\n",
    "    <td>Modulus</td>\n",
    "    <td>%</td>\n",
    "  </tr>\n",
    "  <tr>\n",
    "    <td>Exponentiation</td>\n",
    "    <td>**</td>\n",
    "  </tr>\n",
    "  <tr>\n",
    "    <td>Floor Division</td>\n",
    "    <td>//</td>\n",
    "  </tr>\n",
    "</table>"
   ]
  },
  {
   "cell_type": "code",
   "execution_count": 5,
   "metadata": {},
   "outputs": [
    {
     "name": "stdout",
     "output_type": "stream",
     "text": [
      "Original: 123\n",
      "Addition: 125\n",
      "Subtraction: 121\n"
     ]
    }
   ],
   "source": [
    "var = 123\n",
    "print(\"Original:\", var)\n",
    "print(\"Addition:\", var + 2)\n",
    "print(\"Subtraction:\", var - 2)"
   ]
  },
  {
   "cell_type": "code",
   "execution_count": 6,
   "metadata": {},
   "outputs": [
    {
     "name": "stdout",
     "output_type": "stream",
     "text": [
      "Modulus: 3\n",
      "Multiplication: 246\n",
      "Exponentiation: 15129\n",
      "Division: 12.3\n",
      "Floor Division: 12\n"
     ]
    }
   ],
   "source": [
    "print(\"Modulus:\", var % 120)\n",
    "\n",
    "print(\"Multiplication:\", var * 2)\n",
    "print(\"Exponentiation:\", var ** 2)\n",
    "\n",
    "print(\"Division:\", var / 10)\n",
    "print(\"Floor Division:\", var // 10)"
   ]
  },
  {
   "cell_type": "markdown",
   "metadata": {},
   "source": [
    "<p><b>Less Common Operators:</b></p>\n",
    "<table style=\"width:60%;\">\n",
    "  <tr>\n",
    "    <td>AND</td>\n",
    "    <td>&</td>\n",
    "  </tr>\n",
    "  <tr>\n",
    "    <td>OR</td>\n",
    "    <td>|</td>\n",
    "  </tr>\n",
    "  <tr>\n",
    "    <td>XOR</td>\n",
    "    <td>^</td>\n",
    "  </tr>\n",
    "  <tr>\n",
    "    <td>NOT</td>\n",
    "    <td>~</td>\n",
    "  </tr>\n",
    "  <tr>\n",
    "    <td>Zero fill left shift</td>\n",
    "    <td><<</td>\n",
    "  </tr>\n",
    "  <tr>\n",
    "    <td>Signed right shift</td>\n",
    "    <td>>></td>\n",
    "  </tr>\n",
    "</table>"
   ]
  },
  {
   "cell_type": "markdown",
   "metadata": {},
   "source": [
    "<p>You can also combine any of he previous operators with the assignment operator to save some typing.</p>\n",
    "<ul>\n",
    "    <li>a += b is equal to a = a+b</li>\n",
    "</ul>"
   ]
  },
  {
   "cell_type": "markdown",
   "metadata": {},
   "source": [
    "<p class='section_header' id=\"functions\"><b>4. Functions</b></p>\n",
    "\n",
    "<p>Functions are defined using the keyword <b>def</b>. After the name of the function all expected parameters are listed within parenthesis:</b></p>\n",
    "<div class=\"code-div\"><code>def func_name(param1, param2)</code></div>\n",
    "\n",
    "<p>If you have default values for the prameters you can assign them in the function definition:</p>\n",
    "<div class=\"code-div\"><code>def func_name(param1, param=default_value)</code></div>\n",
    "\n",
    "<p>Python also provides anonymous (lambda) functions:</p>\n",
    "<div class=\"code-div\"><code>sqr = lambda x: x**2</code></div>"
   ]
  },
  {
   "cell_type": "code",
   "execution_count": 7,
   "metadata": {},
   "outputs": [
    {
     "name": "stdout",
     "output_type": "stream",
     "text": [
      "Using function: 11\n",
      "Using function with default arg: 1\n",
      "Using lambda: 12\n"
     ]
    }
   ],
   "source": [
    "def increase_var_by_one(var_input=0):\n",
    "    return var_input + 1\n",
    "\n",
    "lambda_func = lambda input: input + 2\n",
    "\n",
    "var = 10\n",
    "\n",
    "# Supplying var to function.\n",
    "print(\"Using function:\", increase_var_by_one(var))\n",
    "\n",
    "# Letting function use default value.\n",
    "print(\"Using function with default arg:\", increase_var_by_one())\n",
    "\n",
    "# Supplying var to lambda function.\n",
    "print(\"Using lambda:\", lambda_func(var))"
   ]
  },
  {
   "cell_type": "markdown",
   "metadata": {},
   "source": [
    "<p class='section_header' id=\"scope\"><b>5. Scope</b></p>\n",
    "\n",
    "<p>Variables are only accessible within their scope:</p>\n",
    "<ul>\n",
    "    <li>Defining a variable outside of any function/class creates a <b>global variable</b>.</li>\n",
    "    <ul>\n",
    "    <li>The <code>global</code> keyword allows to access and edit global variables inside a local scope</li>\n",
    "    </ul>\n",
    "    <br>\n",
    "    <li>Defining a variable inside a function/class creates a <b>local variable</b>.</li>\n",
    "    <ul>\n",
    "    <li>The <code>nonlocal</code> keyword allows to access and edit variables from encapsulating scopes (except global) to be accessed and edited by nested functions</li>\n",
    "    </ul>\n",
    "</ul>"
   ]
  },
  {
   "cell_type": "code",
   "execution_count": 8,
   "metadata": {},
   "outputs": [
    {
     "name": "stdout",
     "output_type": "stream",
     "text": [
      "-- 1 --\n",
      "a = edited\n",
      "c = edited \n",
      "\n",
      "-- 2 --\n",
      "a = local\n",
      "b = global\n",
      "c = edited \n",
      "\n",
      "-- 3 --\n",
      "a = local\n",
      "b = global \n",
      "\n"
     ]
    }
   ],
   "source": [
    "# Statements that start with '%' are called 'IPython magic commands'.\n",
    "# They are only available if an \"IPython\" interpreter is used as for instance in Jupyter-Notebook.\n",
    "# They allow to give commands to the interperter itself.\n",
    "\n",
    "# This specific command resets the current namespace i.e., all variables are deleted.\n",
    "%reset -f\n",
    "\n",
    "a = 'global'\n",
    "b = 'global'\n",
    "\n",
    "def func1():\n",
    "    global a\n",
    "    a = 'local'\n",
    "    c = 'local'\n",
    "    def func2():\n",
    "        nonlocal c\n",
    "        c = 'edited'\n",
    "        a = 'edited'\n",
    "        print(\"-- 1 --\")\n",
    "        print(\"a = {}\".format(a))\n",
    "        print(\"c = {} \\n\".format(c))\n",
    "        \n",
    "    func2()\n",
    "    print(\"-- 2 --\")\n",
    "    print(\"a = {}\".format(a))\n",
    "    print(\"b = {}\".format(b))\n",
    "    print(\"c = {} \\n\".format(c))\n",
    "    \n",
    "    \n",
    "func1()\n",
    "print(\"-- 3 --\")\n",
    "print(\"a = {}\".format(a))\n",
    "print(\"b = {} \\n\".format(b))"
   ]
  },
  {
   "cell_type": "markdown",
   "metadata": {},
   "source": [
    "<p class='section_header' id=\"collections\"><b>6. Collections</b></p>\n",
    "\n",
    "<p>Python has four basic collection types. Follow below to learn about them.</p>\n",
    "\n",
    "<b><code>list</code></b>\n",
    "<ul>\n",
    "    <li>ordered, mutable, duplicate elements possible</li>\n",
    "</ul>"
   ]
  },
  {
   "cell_type": "code",
   "execution_count": 9,
   "metadata": {},
   "outputs": [
    {
     "name": "stdout",
     "output_type": "stream",
     "text": [
      "[1, 2, 3]\n",
      "1\n",
      "3\n",
      "[0, 2, 3]\n",
      "[0, 2, 3, 5, '6', [7, 8, 'Nine']]\n",
      "[2, 3, 5, '6']\n",
      "[2, 3, 5, '6', 10, 11, 12]\n"
     ]
    }
   ],
   "source": [
    "# this is how you define a list\n",
    "a_list = [1,2,3]\n",
    "print(a_list)\n",
    "\n",
    "# You can access the elements via indexing.\n",
    "print(a_list[0])   # Indices start at 0\n",
    "print(a_list[-1])  # You can index starting from the end\n",
    "\n",
    "# You can change the elements\n",
    "a_list[0] = 0\n",
    "print(a_list)\n",
    "\n",
    "# You can append (add) elements\n",
    "a_list.append(5)\n",
    "a_list.append('6')\n",
    "a_list.append([7,8,'Nine'])\n",
    "print(a_list)\n",
    "\n",
    "# You can delete elements by index\n",
    "del a_list[0], a_list[-1]\n",
    "print(a_list)\n",
    "\n",
    "# You can also extend the list with another collection\n",
    "a_list.extend([10,11,12])\n",
    "print(a_list)"
   ]
  },
  {
   "cell_type": "markdown",
   "metadata": {},
   "source": [
    "<b><code>tuple</code></b>\n",
    "<ul>\n",
    "    <li>ordered, immutable, duplicates elements possible</li>\n",
    "</ul>"
   ]
  },
  {
   "cell_type": "code",
   "execution_count": 10,
   "metadata": {},
   "outputs": [
    {
     "name": "stdout",
     "output_type": "stream",
     "text": [
      "(1, '2', [3, 4])\n",
      "1\n",
      "[3, 4]\n"
     ]
    }
   ],
   "source": [
    "# this is how you define a tuple\n",
    "a_tuple = (1,'2',[3, 4])\n",
    "print(a_tuple)\n",
    "\n",
    "# You can access the elements via indexing.\n",
    "print(a_tuple[0])   # Indices start at 0\n",
    "print(a_tuple[-1])  # You can index starting from the end\n",
    "\n",
    "# You can NOT change the elements\n",
    "# a_tuple[0] = 0     # Throws an error.\n",
    "\n",
    "# You can NOT append elements\n",
    "# a_tuple.append(0)\n",
    "\n",
    "# You can NOT delete elements\n",
    "# del a_tuple[0]\n",
    "\n",
    "# You can NOT extend the tuple\n",
    "# a_tuple.extend(0)"
   ]
  },
  {
   "cell_type": "markdown",
   "metadata": {},
   "source": [
    "<b><code>set</code></b>\n",
    "<ul>\n",
    "    <li>unordered, mutable, unique elements</li>\n",
    "</ul>"
   ]
  },
  {
   "cell_type": "code",
   "execution_count": 11,
   "metadata": {},
   "outputs": [
    {
     "name": "stdout",
     "output_type": "stream",
     "text": [
      "{1, 2, 3, 4}\n",
      "{1, 2, 3, 4, 5, '6'}\n",
      "{1, 2, 3, 4, 5, '6', (1, 2, 3)}\n",
      "{2, 3, 4, 5, '6', (1, 2, 3)}\n",
      "{2, 3, 4, 5, '6', 10, 11, 12}\n"
     ]
    }
   ],
   "source": [
    "# this is how you define a set\n",
    "a_set = {1,2,3,4}\n",
    "print(a_set)\n",
    "\n",
    "# You can NOT access the elements via indexing.\n",
    "# print(a_set[0])   # Throws an error.\n",
    "\n",
    "# You can add elements, however duplicates are not added.\n",
    "a_set.add(5)\n",
    "a_set.add('6')\n",
    "a_set.add(5)\n",
    "print(a_set)\n",
    "\n",
    "# You can only add \"hashable objects\"\n",
    "# hashable objects: objects that don't change over lifetime\n",
    "\n",
    "# a_set.add([1,2,3])  # lists are not hashable\n",
    "# a_set.add({1,2,3})  # sets are not hashable\n",
    "a_set.add((1,2,3))    # tuples are hashable\n",
    "print(a_set)\n",
    "\n",
    "# You can delete elements by value\n",
    "a_set.remove(1)\n",
    "print(a_set)\n",
    "a_set.remove((1,2,3))\n",
    "\n",
    "# You can also extend the set with another collection\n",
    "a_set.update([5,10,11,12])\n",
    "print(a_set)"
   ]
  },
  {
   "cell_type": "markdown",
   "metadata": {},
   "source": [
    "<b><code>dict</code></b>\n",
    "<ul>\n",
    "    <li>key-value pairs as elements</li>\n",
    "    <li>keys are a set</li>\n",
    "</ul>"
   ]
  },
  {
   "cell_type": "code",
   "execution_count": 12,
   "metadata": {},
   "outputs": [
    {
     "name": "stdout",
     "output_type": "stream",
     "text": [
      "{'key': 'value', 'a': 7, 2: 'two'}\n",
      "value\n",
      "7\n",
      "{'key': 'value', 'a': 7, 2: 'zwei'}\n",
      "{'key': 'value', 'a': 7, 2: 'zwei', 'three': 3, (1, 2, 3): 'look a tuple key!'}\n",
      "{'key': 'value', 'a': 7, 2: 'zwei', 'three': 3}\n",
      "{'key': 'value', 'a': 7, 2: 'zwei', 'three': 3, 4: 'four', 'five': 5}\n",
      "dict_keys(['key', 'a', 2, 'three', 4, 'five'])\n",
      "dict_values(['value', 7, 'zwei', 3, 'four', 5])\n"
     ]
    }
   ],
   "source": [
    "# this is how you define a dictionary\n",
    "a_dict = {'key':'value', 'a':7, 2:'two'}\n",
    "print(a_dict)\n",
    "\n",
    "# You can access the value using the key\n",
    "print(a_dict['key'])\n",
    "print(a_dict['a'])\n",
    "\n",
    "# You can change the elements\n",
    "a_dict[2] = 'zwei'\n",
    "print(a_dict)\n",
    "\n",
    "# You can add new elements\n",
    "a_dict['three'] = 3\n",
    "\n",
    "# every hashable object can be key\n",
    "# and any object can be a value\n",
    "a_dict[(1,2,3)] = 'look a tuple key!'\n",
    "print(a_dict)\n",
    "\n",
    "# You can delete elements using the key\n",
    "del a_dict[(1,2,3)]\n",
    "print(a_dict)\n",
    "\n",
    "# You can also extend the dict with another dict\n",
    "a_dict.update({4:'four','five':5})\n",
    "print(a_dict)\n",
    "\n",
    "# the keys form a set:\n",
    "print(a_dict.keys())\n",
    "\n",
    "# and the values form a list:\n",
    "print(a_dict.values())"
   ]
  },
  {
   "cell_type": "markdown",
   "metadata": {},
   "source": [
    "<p class='section_header' id=\"loops\"><b>7. Loops</b></p>\n",
    "\n",
    "<p>Loops iterate over each element in a collection. Several different types in Python, each with their own use case.</p>\n",
    "\n",
    "<p><code>for</code></p>\n",
    "<ul>\n",
    "    <li>Most common and basic looping mechanism.</li>\n",
    "</ul>"
   ]
  },
  {
   "cell_type": "code",
   "execution_count": 13,
   "metadata": {},
   "outputs": [
    {
     "name": "stdout",
     "output_type": "stream",
     "text": [
      "a\n",
      "b\n",
      "c\n"
     ]
    }
   ],
   "source": [
    "a_list = ['a','b','c']\n",
    "\n",
    "for an_element in a_list:\n",
    "    # print('list element: {}'.format(an_element))\n",
    "    print(an_element)"
   ]
  },
  {
   "cell_type": "markdown",
   "metadata": {},
   "source": [
    "<p><code>enumerate</code></p>\n",
    "<ul>\n",
    "    <li>Same as <code>for</code>, but adds indices to track progression</li>\n",
    "</ul>"
   ]
  },
  {
   "cell_type": "code",
   "execution_count": 14,
   "metadata": {},
   "outputs": [
    {
     "name": "stdout",
     "output_type": "stream",
     "text": [
      "0 d\n",
      "1 e\n",
      "2 f\n"
     ]
    }
   ],
   "source": [
    "a_tuple = ('d','e','f')\n",
    "\n",
    "for an_index, an_element in enumerate(a_tuple):\n",
    "    # print('tuple element[{}]: {}'.format(an_index, an_element))\n",
    "    print(an_index, an_element)"
   ]
  },
  {
   "cell_type": "markdown",
   "metadata": {},
   "source": [
    "<p><code>zip</code></p>\n",
    "<ul>\n",
    "    <li>Iterates over multiple collections at once</li>\n",
    "</ul>"
   ]
  },
  {
   "cell_type": "code",
   "execution_count": 15,
   "metadata": {},
   "outputs": [
    {
     "name": "stdout",
     "output_type": "stream",
     "text": [
      "elements: d,h\n",
      "elements: e,i\n",
      "elements: f,g\n",
      "\n",
      "elements[0]: d,h\n",
      "elements[1]: e,i\n",
      "elements[2]: f,g\n"
     ]
    }
   ],
   "source": [
    "a_tuple = ('d','e','f')\n",
    "a_set = {'g','h','i'}\n",
    "\n",
    "\n",
    "for t_ele, s_ele in zip(a_tuple, a_set):\n",
    "    print('elements: {},{}'.format(t_ele, s_ele))\n",
    "\n",
    "print()\n",
    "\n",
    "# You can also combine zip with enumerate.\n",
    "for idx, (t_ele, s_ele) in enumerate(zip(a_tuple, a_set)):\n",
    "    print('elements[{}]: {},{}'.format(idx, t_ele, s_ele))"
   ]
  },
  {
   "cell_type": "markdown",
   "metadata": {},
   "source": [
    "<p><code>range</code></p>\n",
    "<ul>\n",
    "    <li>Use if you just want to run something N times</li>\n",
    "</ul>"
   ]
  },
  {
   "cell_type": "code",
   "execution_count": 16,
   "metadata": {},
   "outputs": [
    {
     "name": "stdout",
     "output_type": "stream",
     "text": [
      "0\n",
      "1\n",
      "2\n"
     ]
    }
   ],
   "source": [
    "for i in range(3):\n",
    "    print(i)"
   ]
  },
  {
   "cell_type": "markdown",
   "metadata": {},
   "source": [
    "<p class='section_header' id=\"logic\"><b>8. Logic</b></p>\n",
    "\n",
    "<table style=\"width:60%;\">\n",
    "  <tr>\n",
    "    <td>Equal</td>\n",
    "    <td>==</td>\n",
    "  </tr>\n",
    "  <tr>\n",
    "    <td>Not Equal</td>\n",
    "    <td>!=</td>\n",
    "  </tr>\n",
    "  <tr>\n",
    "    <td>Greater Than</td>\n",
    "    <td>></td>\n",
    "  </tr>\n",
    "  <tr>\n",
    "    <td>Less Than</td>\n",
    "    <td><</td>\n",
    "  </tr>\n",
    "  <tr>\n",
    "    <td>Greater than or equal to</td>\n",
    "    <td>>=</td>\n",
    "  </tr>\n",
    "  <tr>\n",
    "    <td>Less than or equal to</td>\n",
    "    <td><=</td>\n",
    "  </tr>\n",
    "</table>\n",
    "<br>\n",
    "<table style=\"width:60%;\">\n",
    "  <tr>\n",
    "    <td>true if both sides are true</td>\n",
    "    <td>and</td>\n",
    "  </tr>\n",
    "  <tr>\n",
    "    <td>true if one side is true</td>\n",
    "    <td>or</td>\n",
    "  </tr>\n",
    "  <tr>\n",
    "    <td>negate</td>\n",
    "    <td>not</td>\n",
    "  </tr>\n",
    "  <tr>\n",
    "    <td>true if all elements of a collection are true</td>\n",
    "    <td>all(...)</td>\n",
    "  </tr>\n",
    "  <tr>\n",
    "    <td>true if any element of a collection is true</td>\n",
    "    <td>any(...)</td>\n",
    "  </tr>\n",
    "</table>"
   ]
  },
  {
   "cell_type": "code",
   "execution_count": 17,
   "metadata": {},
   "outputs": [
    {
     "name": "stdout",
     "output_type": "stream",
     "text": [
      "False\n",
      "True\n",
      "False\n",
      "True\n"
     ]
    }
   ],
   "source": [
    "print('this' == 'that') # should be False\n",
    "print('this' == 'this') # should be True\n",
    "print('this' == 'This') # should be False: case sensitive!\n",
    "this_variable = 'this'\n",
    "print('this' == this_variable) # should be True"
   ]
  },
  {
   "cell_type": "code",
   "execution_count": 18,
   "metadata": {},
   "outputs": [
    {
     "name": "stdout",
     "output_type": "stream",
     "text": [
      "True\n",
      "False\n",
      "True\n",
      "True\n"
     ]
    }
   ],
   "source": [
    "a1 = 1\n",
    "a2 = 1\n",
    "b = 2\n",
    "print(a1 == a2) # should be True\n",
    "print(a1 < a2) # should be False\n",
    "print(a1 < b) # should be True\n",
    "print(a1 <= a2) # should be True"
   ]
  },
  {
   "cell_type": "code",
   "execution_count": 19,
   "metadata": {},
   "outputs": [
    {
     "name": "stdout",
     "output_type": "stream",
     "text": [
      "True\n",
      "False\n",
      "True\n"
     ]
    }
   ],
   "source": [
    "print(a1==a2 and 'this' == this_variable) # should be True since both statements are True\n",
    "print(a1==a2 == 'this' == this_variable) # should be False since a2 is not equal to 'this': evaluates left to right\n",
    "print((a1==a2) == ('this' == this_variable)) # should be True because the terms in parentheses take precedence"
   ]
  },
  {
   "cell_type": "code",
   "execution_count": 20,
   "metadata": {},
   "outputs": [
    {
     "name": "stdout",
     "output_type": "stream",
     "text": [
      "True\n",
      "False\n"
     ]
    }
   ],
   "source": [
    "a_list = [True, True, False, True]\n",
    "print(any(a_list)) # should be True\n",
    "print(all(a_list)) # should be False"
   ]
  },
  {
   "cell_type": "markdown",
   "metadata": {},
   "source": [
    "<p class='section_header' id=\"identity\"><b>9. Identity</b></p>\n",
    "\n",
    "<p>Pythons equality operator <code>==</code> compares two variables by their value. However, sometimes it is necessary to identify if two variables are actually the same variable.\n",
    "\n",
    "There is the identity operator <code>is</code> and it's negation <code>is not</code> which check variables for identity.</p>"
   ]
  },
  {
   "cell_type": "code",
   "execution_count": 21,
   "metadata": {},
   "outputs": [
    {
     "name": "stdout",
     "output_type": "stream",
     "text": [
      "True\n",
      "False\n"
     ]
    }
   ],
   "source": [
    "a_list = [1,2,3]\n",
    "b_list = [1,2,3]\n",
    "\n",
    "print(a_list == b_list) # should be True, since both lists have the same content\n",
    "print(a_list is b_list) # should be False because they are not the same list"
   ]
  },
  {
   "cell_type": "markdown",
   "metadata": {},
   "source": [
    "<p>Unfortunately python has it's quirks and one of them is that the <code>is</code> operator behaves confusingly with respect to integers and strings.\n",
    "\n",
    "Let's compare some integers.</p>"
   ]
  },
  {
   "cell_type": "code",
   "execution_count": 22,
   "metadata": {},
   "outputs": [
    {
     "name": "stdout",
     "output_type": "stream",
     "text": [
      "a == b: True\n",
      "a is b: True\n",
      "c == d: True\n",
      "c is d: False\n"
     ]
    }
   ],
   "source": [
    "a = 256\n",
    "b = 256\n",
    "\n",
    "print(\"a == b:\", a == b) # this should be True\n",
    "print(\"a is b:\", a is b) # this should be False but it isn't!!\n",
    "\n",
    "c = 257\n",
    "d = 257\n",
    "\n",
    "print(\"c == d:\", c == d) # this should be True\n",
    "print(\"c is d:\", c is d) # this should be False and it is. But why?!"
   ]
  },
  {
   "cell_type": "markdown",
   "metadata": {},
   "source": [
    "<p>What <code>is</code> actually does is checking the id of the variables for equality. <code>a is b</code> is the same as <code>id(a) == id(b)</code>.\n",
    "\n",
    "Python stores integers between -5 and 256 in an internal array. If one of these values is assigned to a variable, that variable is not actually referencing some place in the memory that holds the corresponding value but instead references the corresponding entry in the internal array.\n",
    "\n",
    "The idea behind it is to avoid allocating tons of memory that holds the same common integers over and over again, but instead allocating them once and referencing that memory whenever needed.</p>"
   ]
  },
  {
   "cell_type": "code",
   "execution_count": 23,
   "metadata": {},
   "outputs": [
    {
     "name": "stdout",
     "output_type": "stream",
     "text": [
      "id(a): 1649871280\n",
      "id(b): 1649871280\n",
      "id(c): 2172943904400\n",
      "id(d): 2172943904144\n"
     ]
    }
   ],
   "source": [
    "a = 256\n",
    "b = 256\n",
    "\n",
    "print(\"id(a):\",id(a))\n",
    "print(\"id(b):\",id(b))\n",
    "\n",
    "c = 257\n",
    "d = 257\n",
    "\n",
    "print(\"id(c):\",id(c))\n",
    "print(\"id(d):\",id(d))"
   ]
  },
  {
   "cell_type": "markdown",
   "metadata": {},
   "source": [
    "<p>Python behaves similarly with simple strings. This is called \"string interning\". It's similar to the integers just a bit more complicated, and we won't go into detail.</p>"
   ]
  },
  {
   "cell_type": "code",
   "execution_count": 24,
   "metadata": {},
   "outputs": [
    {
     "name": "stdout",
     "output_type": "stream",
     "text": [
      "id(a): 2172944441840\n",
      "id(b): 2172944441840\n",
      "id(c): 2172944445368\n",
      "id(d): 2172944445200\n"
     ]
    }
   ],
   "source": [
    "a = \"Why\"\n",
    "b = \"Why\"\n",
    "\n",
    "print(\"id(a):\",id(a))\n",
    "print(\"id(b):\",id(b))\n",
    "\n",
    "c = \"Why?\"\n",
    "d = \"Why?\"\n",
    "\n",
    "print(\"id(c):\",id(c))\n",
    "print(\"id(d):\",id(d))"
   ]
  },
  {
   "cell_type": "markdown",
   "metadata": {},
   "source": [
    "<p>If you are confused. That's alright. This is confusing and there is a reason there are entire blog posts discussing / complaining about it.\n",
    "\n",
    "What you should take away is that while the <code>is</code> operator can be really useful for more complex structures (e.g., lists, dicts, classes) you shouldn't use it for basic types like integers and strings. I have not yet come across a case where this was necessary anyways.</p>"
   ]
  },
  {
   "cell_type": "markdown",
   "metadata": {},
   "source": [
    "<p class='section_header' id=\"conditions\"><b>10. Conditions</b></p>\n",
    "\n",
    "<p>Python has (of course) conditional statements:\n",
    "\n",
    "<b><code>if</code></b>\n",
    "<ul>\n",
    "    <li>if the given condition evaluates to true, the following statements will be executed</li>\n",
    "</ul>\n",
    "\n",
    "<b><code>elif</code></b>\n",
    "<ul>\n",
    "    <li>if none of the previous conditions were true but the one given is, then the following statements will be executed</li>\n",
    "</ul>\n",
    "\n",
    "<b><code>else</code></b>\n",
    "<ul>\n",
    "    <li>if none of the previous conditions were true, the following statements will be executed</li>\n",
    "</ul>\n",
    "\n",
    "<b>!!! Conditions DO NOT introduce a new scope !!!</b></p>"
   ]
  },
  {
   "cell_type": "code",
   "execution_count": 25,
   "metadata": {},
   "outputs": [
    {
     "name": "stdout",
     "output_type": "stream",
     "text": [
      "It's dividable by three!\n",
      "You won!\n"
     ]
    }
   ],
   "source": [
    "number = 3\n",
    "\n",
    "if type(number) != int:\n",
    "    print('only integers allowed.')\n",
    "    print(\"I'll take care of it!\")\n",
    "    number = int(number)\n",
    "    \n",
    "if number == 0:\n",
    "    print('zero')\n",
    "elif number == 1:\n",
    "    print('one')\n",
    "elif number == 2:\n",
    "    print('two')\n",
    "elif number > 2:\n",
    "    # nested if's are a thing!\n",
    "    if not number%3: # 0 evaluates to False\n",
    "        print(\"It's dividable by three!\")\n",
    "        print(\"You won!\")\n",
    "    else:\n",
    "        print(\"Try a number that is smaller by {}\".format(number%3))\n",
    "else:\n",
    "    print(\"I don't like number smaller than zero.\")\n",
    "    print(\"They are always so negative.\")"
   ]
  },
  {
   "cell_type": "markdown",
   "metadata": {},
   "source": [
    "<p class='section_header' id=\"loops_revisited\"><b>11. Loops (Revistited)</b></p>\n",
    "\n",
    "<b><code>for</code> loop</b>\n",
    "<ul>\n",
    "    <li>you can <code>continue</code> to the next iteration and skip all remaining statements</li>\n",
    "    <li>you can <code>break</code> out of loops</li>\n",
    "    <li>python <code>for</code> loops have an <code>else</code> block</li>\n",
    "    <ul>\n",
    "        <li>The block is executed only if no <code>break</code> occurred during the for loop</li>\n",
    "    </ul>\n",
    "</ul>"
   ]
  },
  {
   "cell_type": "code",
   "execution_count": 26,
   "metadata": {},
   "outputs": [
    {
     "name": "stdout",
     "output_type": "stream",
     "text": [
      "1 is NOT dividable by 3\n",
      "2 is NOT dividable by 3\n",
      "5 is NOT dividable by 3\n",
      "7 is NOT dividable by 3\n",
      "Didn't find anything :(\n"
     ]
    }
   ],
   "source": [
    "a_list = [1,2,5,7]\n",
    "\n",
    "for an_element in a_list:\n",
    "    if type(an_element) != int:\n",
    "        print(\"{} is not an integer!\".format(an_element))\n",
    "        continue\n",
    "        \n",
    "    if not an_element%3:\n",
    "        print('{} is dividable by 3'.format(an_element))\n",
    "        print('I stop looking')\n",
    "        break\n",
    "\n",
    "    print('{} is NOT dividable by 3'.format(an_element))\n",
    "else:\n",
    "    print(\"Didn't find anything :(\")"
   ]
  },
  {
   "cell_type": "markdown",
   "metadata": {},
   "source": [
    "<p>Now that we know conditions. We can use another type of loop:</p>\n",
    "\n",
    "<b><code>while</code> loop</b>\n",
    "<ul>\n",
    "    <li>iterate over content, while the initial condition evaluates to True</li>\n",
    "    <li>can use <code>continue</code> in while loops</li>\n",
    "    <li>can use <code>break</code> in while loops</li>\n",
    "    <li>has an <code>else</code> block</li>\n",
    "    <ul>\n",
    "        <li>only executed if the condition evaluated to false</li>\n",
    "        <li><code>break</code> or other \"exits\" won't trigger the <code>else</code> block</li>\n",
    "    </ul>\n",
    "</ul>"
   ]
  },
  {
   "cell_type": "code",
   "execution_count": 27,
   "metadata": {},
   "outputs": [
    {
     "name": "stdout",
     "output_type": "stream",
     "text": [
      "Either we've reached 10, or 10 is not in the list.\n",
      "[10, 15]\n"
     ]
    }
   ],
   "source": [
    "list_of_nums = [1,2,5,7,10,15]\n",
    "\n",
    "while list_of_nums and list_of_nums[0] != 10:\n",
    "    if type(list_of_nums[0]) != int:\n",
    "        break\n",
    "    \n",
    "    del list_of_nums[0]\n",
    "\n",
    "else:\n",
    "    print(\"Either we've reached 10, or 10 is not in the list.\")\n",
    "    \n",
    "print(list_of_nums)"
   ]
  },
  {
   "cell_type": "markdown",
   "metadata": {},
   "source": [
    "<p class='section_header' id=\"list_comp\"><b>12. List Comprehension</b></p>\n",
    "\n",
    "<p>A common thing is to use <code>for</code> loops and <code>if...else</code> blocks to create collections. That is commonly referred to as <b>list comprehension</b>.\n",
    "\n",
    "For example, lets create a list that contains the squares of all integers from 0 to 9:</p>"
   ]
  },
  {
   "cell_type": "code",
   "execution_count": 28,
   "metadata": {},
   "outputs": [
    {
     "name": "stdout",
     "output_type": "stream",
     "text": [
      "[0, 1, 4, 9, 16, 25, 36, 49, 64, 81]\n"
     ]
    }
   ],
   "source": [
    "squares = [i**2 for i in range(10)]\n",
    "print(squares)"
   ]
  },
  {
   "cell_type": "markdown",
   "metadata": {},
   "source": [
    "<p>What if we only want the squares that are divisable by 4?</p>"
   ]
  },
  {
   "cell_type": "code",
   "execution_count": 29,
   "metadata": {},
   "outputs": [
    {
     "name": "stdout",
     "output_type": "stream",
     "text": [
      "[0, 4, 16, 36, 64]\n"
     ]
    }
   ],
   "source": [
    "squares_div_4 = [ j**2 for j in range(10) if not j**2%4]\n",
    "print(squares_div_4)"
   ]
  },
  {
   "cell_type": "markdown",
   "metadata": {},
   "source": [
    "<p class='section_header' id=\"membership\"><b>13. Membership</b></p>\n",
    "\n",
    "<p>We can simplify the usage of collections further by using the membership operators <code>in</code> and <code>not in</code>.\n",
    "\n",
    "<code>in</code> checks if the element on the left hand side is contained within the collection on the right hand side. This allows us to quickly check if an element is within a list. </p>"
   ]
  },
  {
   "cell_type": "code",
   "execution_count": 30,
   "metadata": {},
   "outputs": [
    {
     "name": "stdout",
     "output_type": "stream",
     "text": [
      "x in a_list: True\n",
      "y in a_list: False\n",
      "3 in a_list: True\n"
     ]
    }
   ],
   "source": [
    "a_list = [1,2,3]\n",
    "x = 2\n",
    "y = 4\n",
    "\n",
    "print(\"x in a_list:\",x in a_list)\n",
    "print(\"y in a_list:\",y in a_list)\n",
    "print(\"3 in a_list:\",3 in a_list)"
   ]
  },
  {
   "cell_type": "markdown",
   "metadata": {},
   "source": [
    "<p>For dictionaries <code>in</code> checks if the element exists as a key.</p>"
   ]
  },
  {
   "cell_type": "code",
   "execution_count": 31,
   "metadata": {},
   "outputs": [
    {
     "name": "stdout",
     "output_type": "stream",
     "text": [
      "'a' in a_dict: True\n",
      "'1' in a_dict: True\n",
      "'2' in a_dict: False\n"
     ]
    }
   ],
   "source": [
    "a_dict ={'a':2, 1:'b'}\n",
    "\n",
    "print(\"'a' in a_dict:\",'a' in a_dict)\n",
    "print(\"'1' in a_dict:\", 1 in a_dict)\n",
    "print(\"'2' in a_dict:\", 2 in a_dict)"
   ]
  },
  {
   "cell_type": "markdown",
   "metadata": {},
   "source": [
    "<p class='section_header' id=\"classes\"><b>14. Classes</b></p>\n",
    "\n",
    "<p>Classes can be thought of as blueprints for a container that stores particular variables and functions. Whenever we need such a container we just \"instantiate\" the blueprint. These containers are commonly called <b>objects</b> or <b>instances</b>.</p>\n",
    "\n",
    "<ul>\n",
    "    <li>Classes are defined using the <code>class</code> keyword.</li>\n",
    "    <li>Functions usable by the class (i.e. member functions) are defined within the scope of the class by simply using the <code>def</code> keyword.</li>\n",
    "    <li>You create an instance by using the class name as a function and assigning the output to a variable.</li>\n",
    "    <li><code>self</code> is the instance you created. Every non-static function within a class always takes <code>self</code> as the first argument.</li>    \n",
    "</ul>"
   ]
  },
  {
   "cell_type": "code",
   "execution_count": 32,
   "metadata": {},
   "outputs": [
    {
     "name": "stdout",
     "output_type": "stream",
     "text": [
      "You found: nothing!\n"
     ]
    }
   ],
   "source": [
    "class Treasure(): #\"Treasure\" is just an arbitary name\n",
    "    def open_it(self):\n",
    "        print(\"You found: nothing!\")\n",
    "        \n",
    "bad_treasure = Treasure()\n",
    "bad_treasure.open_it()"
   ]
  },
  {
   "cell_type": "markdown",
   "metadata": {},
   "source": [
    "<p>the <code>__init__(self,...)</code> function is the first function that is called every time a new instance is created for that instance: <code>self</code><p>\n",
    "<ul>\n",
    "    <li>this is not a constructor!</li>\n",
    "    <li>you define what initial arguments your calls needs by defining them in the function header after self.</li>\n",
    "</ul>"
   ]
  },
  {
   "cell_type": "code",
   "execution_count": 33,
   "metadata": {},
   "outputs": [
    {
     "name": "stdout",
     "output_type": "stream",
     "text": [
      "You found: a blueprint!\n"
     ]
    }
   ],
   "source": [
    "class Treasure(): #\"Treasure\" is just an arbitary name\n",
    "    def __init__(self, content):\n",
    "        self.content = content\n",
    "    \n",
    "    def open_it(self):\n",
    "        print(\"You found: {}!\".format(self.content))\n",
    "             \n",
    "bad_treasure = Treasure('a blueprint')\n",
    "bad_treasure.open_it()"
   ]
  },
  {
   "cell_type": "markdown",
   "metadata": {},
   "source": [
    "<p>Python supports inheritance<p>\n",
    "<ul>\n",
    "    <li>You add base classes by listing them in the parenthesis after the class name.</li>\n",
    "    <li>By default every class in python 3 inherits the <code>object</code> class i.e., <code>class AClass():</code> is the same as <code>class AClass(object):</code></li>\n",
    "    <li>Multiple inheritance is also possible.</li>\n",
    "</ul>\n",
    "\n",
    "<p>Function overriding is done by simply re-defining the base function in the the child class.<p>\n",
    "<ul>\n",
    "    <li>if you want to call the base function use <code>super()</code></li>\n",
    "    <li>in case of multiple inheritance explicit base function calls are a better idea: <code>Base.func(self,...)</code></li>\n",
    "</ul>"
   ]
  },
  {
   "cell_type": "markdown",
   "metadata": {},
   "source": [
    "<p class='section_header' id=\"duck_typing\"><b>15. Duck Typing</b></p>\n",
    "\n",
    "<p>Python uses \"duck typing\"\n",
    "\n",
    "<ul>\n",
    "    <li>if it walks like a duck and it quacks like a duck, then it must be a duck!</li>\n",
    "</ul>\n",
    "\n",
    "In other words, in the below program, if you have a method that expects a duck and you give it a duck everything is great. If you give it a penguin one of two things will happen:\n",
    "\n",
    "<ul>\n",
    "    <li>if the method asks the penguin to lay an egg</li>\n",
    "    <ul>\n",
    "        <li>everything will work out (... for now)</li>\n",
    "    </ul>\n",
    "    <li>if the method asks the penguin to fly</li>\n",
    "    <ul>\n",
    "        <li>the penguin will fall on it's face, just as your program</li>\n",
    "    </ul>\n",
    "</ul></p>"
   ]
  },
  {
   "cell_type": "code",
   "execution_count": 34,
   "metadata": {},
   "outputs": [
    {
     "name": "stdout",
     "output_type": "stream",
     "text": [
      "PLOP! You got an egg!\n",
      "Wheee! It's flying\n",
      "PLOP! You got an egg!\n"
     ]
    },
    {
     "ename": "AttributeError",
     "evalue": "'Penguin' object has no attribute 'fly'",
     "output_type": "error",
     "traceback": [
      "\u001b[1;31m---------------------------------------------------------------------------\u001b[0m",
      "\u001b[1;31mAttributeError\u001b[0m                            Traceback (most recent call last)",
      "\u001b[1;32m<ipython-input-34-1f1105e0c8b4>\u001b[0m in \u001b[0;36m<module>\u001b[1;34m()\u001b[0m\n\u001b[0;32m     22\u001b[0m \u001b[0mpenny\u001b[0m \u001b[1;33m=\u001b[0m \u001b[0mPenguin\u001b[0m\u001b[1;33m(\u001b[0m\u001b[1;33m)\u001b[0m\u001b[1;33m\u001b[0m\u001b[0m\n\u001b[0;32m     23\u001b[0m \u001b[0mget_an_egg\u001b[0m\u001b[1;33m(\u001b[0m\u001b[0mpenny\u001b[0m\u001b[1;33m)\u001b[0m\u001b[1;33m\u001b[0m\u001b[0m\n\u001b[1;32m---> 24\u001b[1;33m \u001b[0mmake_it_fly\u001b[0m\u001b[1;33m(\u001b[0m\u001b[0mpenny\u001b[0m\u001b[1;33m)\u001b[0m\u001b[1;33m\u001b[0m\u001b[0m\n\u001b[0m",
      "\u001b[1;32m<ipython-input-34-1f1105e0c8b4>\u001b[0m in \u001b[0;36mmake_it_fly\u001b[1;34m(duck)\u001b[0m\n\u001b[0;32m     14\u001b[0m \u001b[1;33m\u001b[0m\u001b[0m\n\u001b[0;32m     15\u001b[0m \u001b[1;32mdef\u001b[0m \u001b[0mmake_it_fly\u001b[0m\u001b[1;33m(\u001b[0m\u001b[0mduck\u001b[0m\u001b[1;33m)\u001b[0m\u001b[1;33m:\u001b[0m\u001b[1;33m\u001b[0m\u001b[0m\n\u001b[1;32m---> 16\u001b[1;33m     \u001b[0mduck\u001b[0m\u001b[1;33m.\u001b[0m\u001b[0mfly\u001b[0m\u001b[1;33m(\u001b[0m\u001b[1;33m)\u001b[0m\u001b[1;33m\u001b[0m\u001b[0m\n\u001b[0m\u001b[0;32m     17\u001b[0m \u001b[1;33m\u001b[0m\u001b[0m\n\u001b[0;32m     18\u001b[0m \u001b[0mdoug\u001b[0m \u001b[1;33m=\u001b[0m \u001b[0mDuck\u001b[0m\u001b[1;33m(\u001b[0m\u001b[1;33m)\u001b[0m\u001b[1;33m\u001b[0m\u001b[0m\n",
      "\u001b[1;31mAttributeError\u001b[0m: 'Penguin' object has no attribute 'fly'"
     ]
    }
   ],
   "source": [
    "class Duck():\n",
    "    def get_egg(self):\n",
    "        print(\"PLOP! You got an egg!\")\n",
    "\n",
    "    def fly(self):\n",
    "        print(\"Wheee! It's flying\")\n",
    "        \n",
    "class Penguin():\n",
    "    def get_egg(self):\n",
    "        print(\"PLOP! You got an egg!\")\n",
    "\n",
    "def get_an_egg(duck):\n",
    "    duck.get_egg()\n",
    "\n",
    "def make_it_fly(duck):\n",
    "    duck.fly()\n",
    "    \n",
    "doug = Duck()\n",
    "get_an_egg(doug)\n",
    "make_it_fly(doug)\n",
    "\n",
    "penny = Penguin()\n",
    "get_an_egg(penny)\n",
    "make_it_fly(penny)"
   ]
  },
  {
   "cell_type": "markdown",
   "metadata": {},
   "source": [
    "<p class='section_header' id=\"casting\"><b>16. Casting</b></p>\n",
    "\n",
    "<p>Even if we strictly use duck typing, it makes sense to transform a variable of one type into another type. This is known as type <b>casting</b> and it's very easily done in Python (at least for the basic types).\n",
    "\n",
    "For instance, if you expect a numerical value, but you just care for the integer part, you can simply cast it into an int.\n",
    "\n",
    "<b>Be aware that casting can also go wrong.</b></p>"
   ]
  },
  {
   "cell_type": "code",
   "execution_count": 35,
   "metadata": {},
   "outputs": [
    {
     "name": "stdout",
     "output_type": "stream",
     "text": [
      "3\n",
      "<class 'int'>\n",
      "<class 'float'>\n"
     ]
    },
    {
     "ename": "ValueError",
     "evalue": "invalid literal for int() with base 10: '2.5'",
     "output_type": "error",
     "traceback": [
      "\u001b[1;31m---------------------------------------------------------------------------\u001b[0m",
      "\u001b[1;31mValueError\u001b[0m                                Traceback (most recent call last)",
      "\u001b[1;32m<ipython-input-35-5133d9599bbf>\u001b[0m in \u001b[0;36m<module>\u001b[1;34m()\u001b[0m\n\u001b[0;32m     15\u001b[0m \u001b[1;33m\u001b[0m\u001b[0m\n\u001b[0;32m     16\u001b[0m \u001b[1;31m# but this throws an exception!\u001b[0m\u001b[1;33m\u001b[0m\u001b[1;33m\u001b[0m\u001b[0m\n\u001b[1;32m---> 17\u001b[1;33m \u001b[0mprint\u001b[0m\u001b[1;33m(\u001b[0m\u001b[0mtype\u001b[0m\u001b[1;33m(\u001b[0m\u001b[0mint\u001b[0m\u001b[1;33m(\u001b[0m\u001b[1;34m'2.5'\u001b[0m\u001b[1;33m)\u001b[0m\u001b[1;33m)\u001b[0m\u001b[1;33m)\u001b[0m\u001b[1;33m\u001b[0m\u001b[0m\n\u001b[0m",
      "\u001b[1;31mValueError\u001b[0m: invalid literal for int() with base 10: '2.5'"
     ]
    }
   ],
   "source": [
    "pos = 5\n",
    "\n",
    "# No need for type checking or rounding / floor division\n",
    "def move(distance=1):\n",
    "    return pos - int(distance)\n",
    "\n",
    "pos = move(2.1)\n",
    "print(pos)\n",
    "\n",
    "# this also works\n",
    "print(type(int('2')))\n",
    "\n",
    "# this also works\n",
    "print(type(float('2.5')))\n",
    "\n",
    "# but this throws an exception!\n",
    "print(type(int('2.5')))"
   ]
  },
  {
   "cell_type": "markdown",
   "metadata": {},
   "source": [
    "<p class='section_header' id=\"exceptions\"><b>17. Exceptions</b></p>\n",
    "\n",
    "<p>Exceptions occur whenever something doesn't go as planned, e.g., using penguins as ducks. We can \"catch\" such exceptions easily in python with the <code>try...except</code> construct.\n",
    "\n",
    "If an exception occurs within a <code>try</code> block all subsequent statements within the block are skipped and a corresponding exception handler (i.e. a <code>except</code> block) is searched and evaluated.</p>"
   ]
  },
  {
   "cell_type": "code",
   "execution_count": 36,
   "metadata": {},
   "outputs": [
    {
     "name": "stdout",
     "output_type": "stream",
     "text": [
      "you divided by zero\n",
      "1\n"
     ]
    }
   ],
   "source": [
    "a = 1\n",
    "b = 0\n",
    "\n",
    "try:\n",
    "    c= a/b\n",
    "except ZeroDivisionError as err:\n",
    "    print(\"you divided by zero\")\n",
    "    c = a\n",
    "    \n",
    "print(c)"
   ]
  },
  {
   "cell_type": "markdown",
   "metadata": {},
   "source": [
    "<p>There is the <code>finally</code> block, that will always be evaluated. Even if exceptions are not handled or new exceptions occur during exceptions handling.</p>"
   ]
  },
  {
   "cell_type": "code",
   "execution_count": 37,
   "metadata": {},
   "outputs": [
    {
     "name": "stdout",
     "output_type": "stream",
     "text": [
      "you divided by zero\n",
      "This code always happens!\n",
      "1\n"
     ]
    }
   ],
   "source": [
    "a = 1\n",
    "b = 0\n",
    "\n",
    "try:\n",
    "    c= a/b\n",
    "except ZeroDivisionError as err:\n",
    "    print(\"you divided by zero\")\n",
    "    c = a\n",
    "else:\n",
    "    print(\"Everything went well\")\n",
    "finally:\n",
    "    print(\"This code always happens!\")\n",
    "    \n",
    "print(c)"
   ]
  },
  {
   "cell_type": "markdown",
   "metadata": {},
   "source": [
    "<p>Exceptions are just class instances, so we can create our own. We throw any exception by using the keyword <code>raise</code>. </p>"
   ]
  },
  {
   "cell_type": "code",
   "execution_count": 38,
   "metadata": {},
   "outputs": [
    {
     "name": "stdout",
     "output_type": "stream",
     "text": [
      "This always happens!\n"
     ]
    },
    {
     "ename": "ThreeDivisionError",
     "evalue": "We don't like 3s",
     "output_type": "error",
     "traceback": [
      "\u001b[1;31m---------------------------------------------------------------------------\u001b[0m",
      "\u001b[1;31mThreeDivisionError\u001b[0m                        Traceback (most recent call last)",
      "\u001b[1;32m<ipython-input-38-7785fdf880ef>\u001b[0m in \u001b[0;36m<module>\u001b[1;34m()\u001b[0m\n\u001b[0;32m      7\u001b[0m \u001b[1;32mtry\u001b[0m\u001b[1;33m:\u001b[0m\u001b[1;33m\u001b[0m\u001b[0m\n\u001b[0;32m      8\u001b[0m     \u001b[1;32mif\u001b[0m \u001b[0mb\u001b[0m \u001b[1;33m==\u001b[0m \u001b[1;36m3\u001b[0m\u001b[1;33m:\u001b[0m\u001b[1;33m\u001b[0m\u001b[0m\n\u001b[1;32m----> 9\u001b[1;33m         \u001b[1;32mraise\u001b[0m \u001b[0mThreeDivisionError\u001b[0m\u001b[1;33m(\u001b[0m\u001b[1;34m\"We don't like 3s\"\u001b[0m\u001b[1;33m)\u001b[0m\u001b[1;33m\u001b[0m\u001b[0m\n\u001b[0m\u001b[0;32m     10\u001b[0m     \u001b[0mc\u001b[0m\u001b[1;33m=\u001b[0m \u001b[0ma\u001b[0m\u001b[1;33m/\u001b[0m\u001b[0mb\u001b[0m\u001b[1;33m\u001b[0m\u001b[0m\n\u001b[0;32m     11\u001b[0m \u001b[1;32mexcept\u001b[0m \u001b[0mZeroDivisionError\u001b[0m \u001b[1;32mas\u001b[0m \u001b[0merr\u001b[0m\u001b[1;33m:\u001b[0m\u001b[1;33m\u001b[0m\u001b[0m\n",
      "\u001b[1;31mThreeDivisionError\u001b[0m: We don't like 3s"
     ]
    }
   ],
   "source": [
    "class ThreeDivisionError(Exception):\n",
    "    pass\n",
    "\n",
    "a = 1\n",
    "b = 3\n",
    "\n",
    "try:\n",
    "    if b == 3:\n",
    "        raise ThreeDivisionError(\"We don't like 3s\")\n",
    "    c= a/b\n",
    "except ZeroDivisionError as err:\n",
    "    print(\"you divided by zero\")\n",
    "    c = a\n",
    "else:\n",
    "    print(\"Everything went well\")\n",
    "finally:\n",
    "    print(\"This always happens!\")\n",
    "    \n",
    "print(c)"
   ]
  },
  {
   "cell_type": "markdown",
   "metadata": {},
   "source": [
    "<p>If you come from Java you might say: \"But I won't have to use try...except statement too much anyway because I just check if everything is in order before I try something stupid.\"\n",
    "\n",
    "Well... THIS ISN'T JAVA!\n",
    "\n",
    "The python way teaches: \"it's easier to ask for forgiveness than permission\". Remember duck typing? <code>try..except</code> is the other end of it. \n",
    "<ul>\n",
    "    <li>Assume everything works like you expect and be prepared if it doesn't!</li>\n",
    "    <li>READ THE DOCUMENTATION!</li>\n",
    "</ul></p>"
   ]
  },
  {
   "cell_type": "markdown",
   "metadata": {},
   "source": [
    "<p class='section_header' id=\"modules\"><b>18. Modules</b></p>\n",
    "\n",
    "<p>Python modules offer functionalities e.g., functions and classes, that someone developed and published for anyone to use.\n",
    "\n",
    "You can access these modules by using the <code>import</code> keyword. You can also alias the module/function by using <code>import ... as</code>.\n",
    "\n",
    "If you know a piece of functionality from the module you want you can just import that specific function by using <code>from ... import</code>.\n",
    "\n",
    "Let's import numpy:</p>"
   ]
  },
  {
   "cell_type": "code",
   "execution_count": 39,
   "metadata": {
    "collapsed": true
   },
   "outputs": [],
   "source": [
    "import numpy as np"
   ]
  },
  {
   "cell_type": "markdown",
   "metadata": {},
   "source": [
    "<p>If you get an exception that the module 'numpy' doesn't exist you will have to install it in your conda environment.\n",
    "\n",
    "<ul>\n",
    "    <li>Open a new terminal.</li>\n",
    "    <li>Activate your conda environment: <code id=\"code\">conda activate [environment name]</code></li>\n",
    "    <li>Install numpy: <code id=\"code\">conda install numpy</code></li>\n",
    "    <li>Try running the above cell again.</li>\n",
    "</ul></p>"
   ]
  },
  {
   "cell_type": "markdown",
   "metadata": {},
   "source": [
    "<p class='section_header' id=\"numpy\"><b>19. Numpy (in a nutshell)</b></p>\n",
    "\n",
    "<p>Numpy gives us access to a lot of great mathematical tools. It includes tools for linear algebra, matrix calculus, and stochastics/probability theory. Lets create some vectors and matrices.</p>"
   ]
  },
  {
   "cell_type": "code",
   "execution_count": 40,
   "metadata": {},
   "outputs": [
    {
     "name": "stdout",
     "output_type": "stream",
     "text": [
      "\n",
      "a:\n",
      " [1 2 3]\n",
      "\n",
      "row_vec:\n",
      " [[1 2 3]]\n",
      "\n",
      "col_vec:\n",
      " [[1]\n",
      " [2]\n",
      " [3]]\n",
      "\n",
      "col_vec:\n",
      " [[1]\n",
      " [2]\n",
      " [3]]\n",
      "\n",
      "row_vec:\n",
      " [[1 2 3]]\n",
      "\n",
      "mat:\n",
      " [[0 0 1]\n",
      " [1 0 0]\n",
      " [0 1 0]]\n",
      "\n",
      "inner:\n",
      " [[14]]\n",
      "\n",
      "outer:\n",
      " [[1 2 3]\n",
      " [2 4 6]\n",
      " [3 6 9]]\n",
      "\n",
      "vec_times_mat:\n",
      " [[3]\n",
      " [1]\n",
      " [2]]\n",
      "\n",
      "mat_times_mat:\n",
      " [[0 1 0]\n",
      " [0 0 1]\n",
      " [1 0 0]]\n"
     ]
    }
   ],
   "source": [
    "import numpy as np\n",
    "\n",
    "# Lets create a numpy array\n",
    "a = np.array([1,2,3])\n",
    "print(\"\\na:\\n\",a)\n",
    "\n",
    "# if we add another dimensions its a row vector\n",
    "row_vec = np.array([[1,2,3]])\n",
    "print(\"\\nrow_vec:\\n\",row_vec)\n",
    "\n",
    "# transposing a row_vector leads to a column vector\n",
    "col_vec = row_vec.T\n",
    "print(\"\\ncol_vec:\\n\",col_vec)\n",
    "\n",
    "# we can also directly specify a column vector\n",
    "col_vec = np.array([[1],[2],[3]])\n",
    "print(\"\\ncol_vec:\\n\",col_vec)\n",
    "\n",
    "# and transposing that one brings us back to a row vector\n",
    "row_vec = col_vec.T\n",
    "print(\"\\nrow_vec:\\n\",row_vec)\n",
    "\n",
    "# we can define a matrix the same way\n",
    "mat = np.array([[0,0,1],[1,0,0],[0,1,0]])\n",
    "print(\"\\nmat:\\n\",mat)\n",
    "\n",
    "# we can compute dot/inner products using numpy.dot\n",
    "inner_prod = np.dot(col_vec.T,col_vec)\n",
    "print(\"\\ninner:\\n\",inner_prod)\n",
    "\n",
    "# this way we can also compute the outer product\n",
    "outer_prod = np.dot(col_vec,col_vec.T)\n",
    "print(\"\\nouter:\\n\",outer_prod)\n",
    "\n",
    "# and we can also use this for matrix multiplication\n",
    "vec_times_mat = np.dot(mat,col_vec)\n",
    "print(\"\\nvec_times_mat:\\n\",vec_times_mat)\n",
    "\n",
    "mat_times_mat = np.dot(mat,mat)\n",
    "print(\"\\nmat_times_mat:\\n\",mat_times_mat)"
   ]
  },
  {
   "cell_type": "markdown",
   "metadata": {},
   "source": [
    "<p class='section_header' id=\"mutables\"><b>20. Mutables as default values in functions</b></p>\n",
    "\n",
    "<p>One more python weirdness... We know how to set default values for function arguments and so far it worked well with basic types. But what happens if we use mutable objects as defaults? </p>"
   ]
  },
  {
   "cell_type": "code",
   "execution_count": 41,
   "metadata": {},
   "outputs": [
    {
     "name": "stdout",
     "output_type": "stream",
     "text": [
      "l5: [5, 7]\n",
      "l7: [5, 7]\n",
      "id(l5): 2172964404424\n",
      "id(l7): 2172964404424\n"
     ]
    }
   ],
   "source": [
    "def add_ele_to_list(ele, a_list=[]):\n",
    "    a_list.append(ele)\n",
    "    return a_list\n",
    "    \n",
    "#Lets add elements to two different lists\n",
    "l5 = add_ele_to_list(5)\n",
    "l7 = add_ele_to_list(7)\n",
    "\n",
    "# we expect l5 and l7 to be two independent lists\n",
    "# with the values 5 and 7 respectively\n",
    "print(\"l5:\",l5)\n",
    "print(\"l7:\",l7)\n",
    "\n",
    "# why do both lists contain the both numbers?\n",
    "# lets check the ids\n",
    "print(\"id(l5):\",id(l5))\n",
    "print(\"id(l7):\",id(l7))\n",
    "\n",
    "# They are the same list!"
   ]
  },
  {
   "cell_type": "markdown",
   "metadata": {},
   "source": [
    "<p>This behavior happens because the function header is evaluated only once when the functions is created. Therefore, the default list is not created every time the function is called but rather only once and every time the function is called with the default value, the same list is used.\n",
    "\n",
    "What can we do about it? Don't use mutable objects as default values. Use <code>None</code> instead!</p>"
   ]
  },
  {
   "cell_type": "code",
   "execution_count": 42,
   "metadata": {},
   "outputs": [
    {
     "name": "stdout",
     "output_type": "stream",
     "text": [
      "l5: [5]\n",
      "l7: [7]\n",
      "id(l5): 2172964588040\n",
      "id(l7): 2172964587912\n"
     ]
    }
   ],
   "source": [
    "def add_ele_to_list(ele, a_list=None):\n",
    "    if a_list is None:\n",
    "        a_list=[]\n",
    "    a_list.append(ele)\n",
    "    return a_list\n",
    "    \n",
    "#Lets add elements to two different lists\n",
    "l5 = add_ele_to_list(5)\n",
    "l7 = add_ele_to_list(7)\n",
    "\n",
    "# we expect l5 and l7 to be two independent lists\n",
    "# with the values 5 and 7 respectively\n",
    "print(\"l5:\",l5)\n",
    "print(\"l7:\",l7)\n",
    "\n",
    "# and that is excatly what happens!\n",
    "# lets check the ids\n",
    "print(\"id(l5):\",id(l5))\n",
    "print(\"id(l7):\",id(l7))\n",
    "\n",
    "# They are the same list!"
   ]
  },
  {
   "cell_type": "markdown",
   "metadata": {},
   "source": [
    "<p class='section_header' id=\"wrap_up\"><b>21. Wrap Up</b></p>\n",
    "\n",
    "<p>We have learned a lot about python and there is still so much more to learn and to understand. However, what you learned here should be sufficient for this tutorial and with time you will learn all the features, tricks and quirks of Python.</p>\n",
    "\n",
    "<p>From now on we will talk about specific functionalities of specific modules only once we encounter situations where we need them. For instance, once we start with the robotics introduction we will have a closer look at vectors and matrices and therefore at the <code>numpy</code> module! </p>\n",
    "\n",
    "<p>To finish up, <b>make sure you go back to Github_Classroom_Tutorial</b> and read the note about how to update assignments!</p>"
   ]
  },
  {
   "cell_type": "code",
   "execution_count": null,
   "metadata": {
    "collapsed": true
   },
   "outputs": [],
   "source": []
  },
  {
   "cell_type": "code",
   "execution_count": 43,
   "metadata": {},
   "outputs": [
    {
     "data": {
      "text/html": [
       "<style> \n",
       "    p {\n",
       "        font-size:15px;\n",
       "    }\n",
       "\n",
       "    p.notebook_header {\n",
       "        text-align:center;\n",
       "        font-size:30px;\n",
       "        margin-bottom: 30px;\n",
       "    }\n",
       "\n",
       "    p.section_header {\n",
       "        text-align:left;\n",
       "        font-size:25px;\n",
       "        margin-top: 20px;\n",
       "        margin-bottom: 35px;\n",
       "    }\n",
       "\n",
       "    hr.separate {\n",
       "        height:3px;\n",
       "        border:none;\n",
       "    }\n",
       "\n",
       "    hr.light_separate {\n",
       "        height:1px;\n",
       "        border:none;\n",
       "    }\n",
       "\n",
       "    li {\n",
       "        font-size:15px;\n",
       "    }\n",
       "\n",
       "    td {\n",
       "        font-size:15px;\n",
       "    }\n",
       "\n",
       "    div.code-div {\n",
       "        text-align: center; \n",
       "        margin-top: 10px;\n",
       "        margin-bottom: 10px;       \n",
       "    }\n",
       "\n",
       "    #code {\n",
       "        background: #f4f4f4;\n",
       "        border: 1px solid #ddd;\n",
       "        font-family: monospace;\n",
       "        font-size: 15px;\n",
       "    }\n",
       "</style> "
      ],
      "text/plain": [
       "<IPython.core.display.HTML object>"
      ]
     },
     "execution_count": 43,
     "metadata": {},
     "output_type": "execute_result"
    }
   ],
   "source": [
    "# Custom CSS styling.\n",
    "from IPython.core.display import HTML\n",
    "\n",
    "HTML(open(\"./styles/custom.css\", \"r\").read())"
   ]
  },
  {
   "cell_type": "code",
   "execution_count": null,
   "metadata": {
    "collapsed": true
   },
   "outputs": [],
   "source": []
  }
 ],
 "metadata": {
  "kernelspec": {
   "display_name": "Python 3",
   "language": "python",
   "name": "python3"
  },
  "language_info": {
   "codemirror_mode": {
    "name": "ipython",
    "version": 3
   },
   "file_extension": ".py",
   "mimetype": "text/x-python",
   "name": "python",
   "nbconvert_exporter": "python",
   "pygments_lexer": "ipython3",
   "version": "3.6.1"
  }
 },
 "nbformat": 4,
 "nbformat_minor": 2
}
